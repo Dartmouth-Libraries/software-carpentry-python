{
 "cells": [
  {
   "attachments": {},
   "cell_type": "markdown",
   "metadata": {},
   "source": [
    "## Programming Style: Solutions"
   ]
  },
  {
   "attachments": {},
   "cell_type": "markdown",
   "metadata": {},
   "source": [
    "# What Will Be Shown?\n",
    "\n",
    "Highlight the lines in the code below that will be available as online help. Are there lines that should be made available, but won’t be? Will any lines produce a syntax error or a runtime error?\n",
    "\n",
    "```python\n",
    "\"Find maximum edit distance between multiple sequences.\"\n",
    "# This finds the maximum distance between all sequences.\n",
    "\n",
    "def overall_max(sequences):\n",
    "    '''Determine overall maximum edit distance.'''\n",
    "\n",
    "    highest = 0\n",
    "    for left in sequences:\n",
    "        for right in sequences:\n",
    "            '''Avoid checking sequence against itself.'''\n",
    "            if left != right:\n",
    "                this = edit_distance(left, right)\n",
    "                highest = max(highest, this)\n",
    "\n",
    "    # Report.\n",
    "    return highest\n",
    "```"
   ]
  },
  {
   "attachments": {},
   "cell_type": "markdown",
   "metadata": {},
   "source": [
    "## Document This\n",
    "\n",
    "Turn the comment in the following function into a docstring and check that help displays it properly."
   ]
  },
  {
   "cell_type": "code",
   "execution_count": null,
   "metadata": {},
   "outputs": [],
   "source": [
    "def middle(a, b, c):\n",
    "    # Return the middle value of three.\n",
    "    # Assumes the values can actually be compared.\n",
    "    values = [a, b, c]\n",
    "    values.sort()\n",
    "    return values[1]\n"
   ]
  },
  {
   "cell_type": "code",
   "execution_count": null,
   "metadata": {},
   "outputs": [],
   "source": [
    "def middle(a, b, c):\n",
    "    '''Return the middle value of three.\n",
    "    Assumes the values can actually be compared.'''\n",
    "    values = [a, b, c]\n",
    "    values.sort()\n",
    "    return values[1]"
   ]
  },
  {
   "attachments": {},
   "cell_type": "markdown",
   "metadata": {},
   "source": [
    "## Clean Up This Code \n",
    "\n",
    "1. Read this short program and try to predict what it does.\n",
    "2. Run it: how accurate was your prediction?\n",
    "3. Refactor the program to make it more readable. Remember to run it after each change to ensure its behavior hasn’t changed.\n",
    "4. Compare your rewrite with your neighbor’s. What did you do the same? What did you do differently, and why?"
   ]
  },
  {
   "cell_type": "code",
   "execution_count": null,
   "metadata": {},
   "outputs": [],
   "source": [
    "n = 10\n",
    "s = 'et cetera'\n",
    "print(s)\n",
    "i = 0\n",
    "while i < n:\n",
    "    # print('at', j)\n",
    "    new = ''\n",
    "    for j in range(len(s)):\n",
    "        left = j-1\n",
    "        right = (j+1)%len(s)\n",
    "        if s[left]==s[right]: new = new + '-'\n",
    "        else: new = new + '*'\n",
    "    s=''.join(new)\n",
    "    print(s)\n",
    "    i += 1"
   ]
  },
  {
   "cell_type": "code",
   "execution_count": null,
   "metadata": {},
   "outputs": [],
   "source": [
    "# Here's one solution:\n",
    "\n",
    "def string_machine(input_string, iterations):\n",
    "    \"\"\"\n",
    "    Takes input_string and generates a new string with -'s and *'s\n",
    "    corresponding to characters that have identical adjacent characters\n",
    "    or not, respectively.  Iterates through this procedure with the resultant\n",
    "    strings for the supplied number of iterations.\n",
    "    \"\"\"\n",
    "    print(input_string)\n",
    "    input_string_length = len(input_string)\n",
    "    old = input_string\n",
    "    for i in range(iterations):\n",
    "        new = ''\n",
    "        # iterate through characters in previous string\n",
    "        for j in range(input_string_length):\n",
    "            left = j-1\n",
    "            right = (j+1) % input_string_length  # ensure right index wraps around\n",
    "            if old[left] == old[right]:\n",
    "                new = new + '-'\n",
    "            else:\n",
    "                new = new + '*'\n",
    "        print(new)\n",
    "        # store new string as old\n",
    "        old = new     \n",
    "\n",
    "string_machine('et cetera', 10)"
   ]
  },
  {
   "cell_type": "markdown",
   "metadata": {},
   "source": [
    "Licensed under [CC-BY 4.0](http://swcarpentry.github.io/python-novice-gapminder/18-style/index.html) 2018–2023 by [The Carpentries](https://carpentries.org/)\n",
    "\n",
    "Licensed under [CC-BY 4.0](http://swcarpentry.github.io/python-novice-gapminder/18-style/index.html) 2016–2018 by [Software Carpentry Foundation](https://software-carpentry.org/)"
   ]
  }
 ],
 "metadata": {
  "kernelspec": {
   "display_name": ".env",
   "language": "python",
   "name": "python3"
  },
  "language_info": {
   "codemirror_mode": {
    "name": "ipython",
    "version": 3
   },
   "file_extension": ".py",
   "mimetype": "text/x-python",
   "name": "python",
   "nbconvert_exporter": "python",
   "pygments_lexer": "ipython3",
   "version": "3.10.8"
  },
  "orig_nbformat": 4
 },
 "nbformat": 4,
 "nbformat_minor": 2
}
