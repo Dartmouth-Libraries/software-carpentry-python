{
 "cells": [
  {
   "attachments": {},
   "cell_type": "markdown",
   "metadata": {},
   "source": [
    "# Pandas DataFrames: Solutions"
   ]
  },
  {
   "attachments": {},
   "cell_type": "markdown",
   "metadata": {},
   "source": [
    "## Selection of Individual Values\n",
    "\n",
    "Assume Pandas has been imported into your notebook and the Gapminder GDP data for Europe has been loaded:"
   ]
  },
  {
   "cell_type": "code",
   "execution_count": null,
   "metadata": {},
   "outputs": [],
   "source": [
    "import pandas as pd\n",
    "\n",
    "df = pd.read_csv('../../data/gapminder_gdp_europe.csv', index_col='country')"
   ]
  },
  {
   "cell_type": "markdown",
   "metadata": {},
   "source": [
    "Write an expression to find the Per Capita GDP of Serbia in 2007."
   ]
  },
  {
   "attachments": {},
   "cell_type": "markdown",
   "metadata": {},
   "source": [
    "The selection can be done by using the labels for both the row (“Serbia”) and the column (“gdpPercap_2007”):\n",
    "\n"
   ]
  },
  {
   "cell_type": "code",
   "execution_count": null,
   "metadata": {},
   "outputs": [],
   "source": [
    "print(df.loc['Serbia', 'gdpPercap_2007'])"
   ]
  },
  {
   "attachments": {},
   "cell_type": "markdown",
   "metadata": {},
   "source": [
    "## Extent of Slicing\n",
    "1. Do the two statements below produce the same output?\n",
    "2. Based on this, what rule governs what is included (or not) in numerical slices and named slices in Pandas?\n",
    "\n",
    "```python\n",
    "print(df.iloc[0:2, 0:2])\n",
    "print(df.loc['Albania':'Belgium', 'gdpPercap_1952':'gdpPercap_1962'])\n",
    "```"
   ]
  },
  {
   "attachments": {},
   "cell_type": "markdown",
   "metadata": {},
   "source": [
    "No, they do not produce the same output! The output of the first statement is:"
   ]
  },
  {
   "cell_type": "code",
   "execution_count": null,
   "metadata": {},
   "outputs": [],
   "source": [
    "print(df.iloc[0:2, 0:2])"
   ]
  },
  {
   "attachments": {},
   "cell_type": "markdown",
   "metadata": {},
   "source": [
    "The second statement gives:"
   ]
  },
  {
   "cell_type": "code",
   "execution_count": null,
   "metadata": {},
   "outputs": [],
   "source": [
    "print(df.loc['Albania':'Belgium', 'gdpPercap_1952':'gdpPercap_1962'])"
   ]
  },
  {
   "attachments": {},
   "cell_type": "markdown",
   "metadata": {},
   "source": [
    "Clearly, the second statement produces an additional column and an additional row compared to the first statement.\n",
    "\n",
    "What conclusion can we draw? We see that a numerical slice, `0:2`, *omits* the final index (i.e. index 2) in the range provided, while a named slice, `‘gdpPercap_1952’:’gdpPercap_1962’`, *includes* the final element."
   ]
  },
  {
   "attachments": {},
   "cell_type": "markdown",
   "metadata": {},
   "source": [
    "## Reconstructing Data"
   ]
  },
  {
   "attachments": {},
   "cell_type": "markdown",
   "metadata": {},
   "source": [
    "Explain what each line in the following short program does: what is in first, second, etc.?\n",
    "\n",
    "```python\n",
    "first = pd.read_csv('../../data/gapminder_all.csv', index_col='country')\n",
    "second = first[first['continent'] == 'Americas']\n",
    "third = second.drop('Puerto Rico')\n",
    "fourth = third.drop('continent', axis = 1)\n",
    "fourth.to_csv('result.csv')\n",
    "```"
   ]
  },
  {
   "attachments": {},
   "cell_type": "markdown",
   "metadata": {},
   "source": [
    "Let’s go through this piece of code line by line.\n",
    "\n",
    "```python\n",
    "first = pd.read_csv('../../data/gapminder_all.csv', index_col='country')\n",
    "```\n",
    "\n",
    "This line loads the dataset containing the GDP data from all countries into a dataframe called `first`. The `index_col='country'` parameter selects which column to use as the row labels in the dataframe.\n",
    "\n",
    "\n",
    "```python\n",
    "second = first[first['continent'] == 'Americas']\n",
    "```\n",
    "\n",
    "This line makes a selection: only those rows of `first` for which the ‘continent’ column matches ‘Americas’ are extracted. Notice how the Boolean expression inside the brackets, `first['continent'] == 'Americas'`, is used to select only those rows where the expression is true. Try printing this expression! Can you print also its individual True/False elements? (hint: first assign the expression to a variable)\n",
    "\n",
    "\n",
    "```python\n",
    "third = second.drop('Puerto Rico')\n",
    "```\n",
    "\n",
    "As the syntax suggests, this line drops the row from second where the label is ‘Puerto Rico’. The resulting dataframe `third` has one row less than the original dataframe `second`.\n",
    "\n",
    "\n",
    "```python\n",
    "fourth = third.drop('continent', axis = 1)\n",
    "```\n",
    "\n",
    "Again we apply the drop function, but in this case we are dropping not a row but a whole column. To accomplish this, we need to specify also the `axis` parameter (we want to drop the second column which has index 1).\n",
    "\n",
    "```python\n",
    "fourth.to_csv('result.csv')\n",
    "```\n",
    "\n",
    "The final step is to write the data that we have been working on to a csv file. Pandas makes this easy with the `to_csv()` function. The only required argument to the function is the filename. Note that the file will be written in the directory from which you started the Jupyter or Python session."
   ]
  },
  {
   "attachments": {},
   "cell_type": "markdown",
   "metadata": {},
   "source": [
    "## Selecting Indices\n",
    "\n",
    "Explain in simple terms what `idxmin` and `idxmax` do in the short program below. When would you use these methods?"
   ]
  },
  {
   "cell_type": "code",
   "execution_count": null,
   "metadata": {},
   "outputs": [],
   "source": [
    "data = pd.read_csv('../../data/gapminder_gdp_europe.csv', index_col='country')\n",
    "print(data.idxmin())\n",
    "print(data.idxmax())"
   ]
  },
  {
   "attachments": {},
   "cell_type": "markdown",
   "metadata": {},
   "source": [
    "For each column in data, `idxmin` will return the index value corresponding to each column’s minimum; `idxmax` will do accordingly the same for each column’s maximum value.\n",
    "\n",
    "You can use these functions whenever you want to get the row index of the minimum/maximum value and not the actual minimum/maximum value."
   ]
  },
  {
   "attachments": {},
   "cell_type": "markdown",
   "metadata": {},
   "source": [
    "## Practice with Selection\n",
    "\n",
    "Assume Pandas has been imported and the Gapminder GDP data for Europe has been loaded. Write an expression to select each of the following:\n",
    "\n",
    "1. GDP per capita for all countries in 1982.\n",
    "2. GDP per capita for Denmark for all years.\n",
    "3. GDP per capita for all countries for years after 1985.\n",
    "4. GDP per capita for each country in 2007 as a multiple of GDP per capita for that country in 1952."
   ]
  },
  {
   "cell_type": "code",
   "execution_count": null,
   "metadata": {},
   "outputs": [],
   "source": [
    "# 1:\n",
    "data['gdpPercap_1982']"
   ]
  },
  {
   "cell_type": "code",
   "execution_count": null,
   "metadata": {},
   "outputs": [],
   "source": [
    "# 2:\n",
    "data.loc['Denmark',:]"
   ]
  },
  {
   "cell_type": "code",
   "execution_count": null,
   "metadata": {},
   "outputs": [],
   "source": [
    "# 3:\n",
    "data.loc[:,'gdpPercap_1985':]"
   ]
  },
  {
   "attachments": {},
   "cell_type": "markdown",
   "metadata": {},
   "source": [
    "Pandas is smart enough to recognize the number at the end of the column label and does not give you an error, although no column named `gdpPercap_1985` actually exists. This is useful if new columns are added to the CSV file later."
   ]
  },
  {
   "cell_type": "code",
   "execution_count": null,
   "metadata": {},
   "outputs": [],
   "source": [
    "# 4:\n",
    "data['gdpPercap_2007'] / data['gdpPercap_1952']"
   ]
  },
  {
   "attachments": {},
   "cell_type": "markdown",
   "metadata": {},
   "source": [
    "## Many Ways of Access\n",
    "\n",
    "There are at least two ways of accessing a value or slice of a DataFrame: by name or index. However, there are many others. For example, a single column or row can be accessed either as a `DataFrame` or a `Series` object.\n",
    "\n",
    "Suggest different ways of doing the following operations on a DataFrame:\n",
    "\n",
    "1. Access a single column\n",
    "2. Access a single row\n",
    "3. Access an individual DataFrame element\n",
    "4. Access several columns\n",
    "5. Access several rows\n",
    "6. Access a subset of specific rows and columns\n",
    "7. Access a subset of row and column ranges"
   ]
  },
  {
   "attachments": {},
   "cell_type": "markdown",
   "metadata": {},
   "source": [
    "### 1. Access a single column\n",
    "\n",
    "```python\n",
    "# by name\n",
    "data[\"col_name\"]   # as a Series\n",
    "data[[\"col_name\"]] # as a DataFrame\n",
    "\n",
    "# by name using .loc\n",
    "data.T.loc[\"col_name\"]  # as a Series\n",
    "data.T.loc[[\"col_name\"]].T  # as a DataFrame\n",
    "\n",
    "# Dot notation (Series)\n",
    "data.col_name\n",
    "\n",
    "# by index (iloc)\n",
    "data.iloc[:, col_index]   # as a Series\n",
    "data.iloc[:, [col_index]] # as a DataFrame\n",
    "\n",
    "# using a mask\n",
    "data.T[data.T.index == \"col_name\"].T\n",
    "```\n",
    "\n",
    "### 2. Access a single row:\n",
    "\n",
    "```python\n",
    "# by name using .loc\n",
    "data.loc[\"row_name\"] # as a Series\n",
    "data.loc[[\"row_name\"]] # as a DataFrame\n",
    "\n",
    "# by name\n",
    "data.T[\"row_name\"] # as a Series\n",
    "data.T[[\"row_name\"]].T # as a DataFrame\n",
    "\n",
    "# by index\n",
    "data.iloc[row_index]   # as a Series\n",
    "data.iloc[[row_index]]   # as a DataFrame\n",
    "\n",
    "# using mask\n",
    "data[data.index == \"row_name\"]\n",
    "```\n",
    "\n",
    "### 3. Access an individual DataFrame element:\n",
    "\n",
    "```python\n",
    "# by column/row names\n",
    "data[\"column_name\"][\"row_name\"]         # as a Series\n",
    "\n",
    "data[[\"col_name\"]].loc[\"row_name\"]  # as a Series\n",
    "data[[\"col_name\"]].loc[[\"row_name\"]]  # as a DataFrame\n",
    "\n",
    "data.loc[\"row_name\"][\"col_name\"]  # as a value\n",
    "data.loc[[\"row_name\"]][\"col_name\"]  # as a Series\n",
    "data.loc[[\"row_name\"]][[\"col_name\"]]  # as a DataFrame\n",
    "\n",
    "data.loc[\"row_name\", \"col_name\"]  # as a value\n",
    "data.loc[[\"row_name\"], \"col_name\"]  # as a Series. Preserves index. Column name is moved to `.name`.\n",
    "data.loc[\"row_name\", [\"col_name\"]]  # as a Series. Index is moved to `.name.` Sets index to column name.\n",
    "data.loc[[\"row_name\"], [\"col_name\"]]  # as a DataFrame (preserves original index and column name)\n",
    "\n",
    "# by column/row names: Dot notation\n",
    "data.col_name.row_name\n",
    "\n",
    "# by column/row indices\n",
    "data.iloc[row_index, col_index] # as a value\n",
    "data.iloc[[row_index], col_index] # as a Series. Preserves index. Column name is moved to `.name`\n",
    "data.iloc[row_index, [col_index]] # as a Series. Index is moved to `.name.` Sets index to column name.\n",
    "data.iloc[[row_index], [col_index]] # as a DataFrame (preserves original index and column name)\n",
    "\n",
    "# column name + row index\n",
    "data[\"col_name\"][row_index]\n",
    "data.col_name[row_index]\n",
    "data[\"col_name\"].iloc[row_index]\n",
    "\n",
    "# column index + row name\n",
    "data.iloc[:, [col_index]].loc[\"row_name\"]  # as a Series\n",
    "data.iloc[:, [col_index]].loc[[\"row_name\"]]  # as a DataFrame\n",
    "\n",
    "# using masks\n",
    "data[data.index == \"row_name\"].T[data.T.index == \"col_name\"].T\n",
    "```\n",
    "### 4. Access several columns:\n",
    "\n",
    "```python\n",
    "# by name\n",
    "data[[\"col1\", \"col2\", \"col3\"]]\n",
    "data.loc[:, [\"col1\", \"col2\", \"col3\"]]\n",
    "\n",
    "# by index\n",
    "data.iloc[:, [col1_index, col2_index, col3_index]]\n",
    "```\n",
    "### 5. Access several rows\n",
    "\n",
    "```python\n",
    "# by name\n",
    "data.loc[[\"row1\", \"row2\", \"row3\"]]\n",
    "\n",
    "# by index\n",
    "data.iloc[[row1_index, row2_index, row3_index]]\n",
    "```\n",
    "\n",
    "### 6. Access a subset of specific rows and columns\n",
    "\n",
    "```python\n",
    "# by names\n",
    "data.loc[[\"row1\", \"row2\", \"row3\"], [\"col1\", \"col2\", \"col3\"]]\n",
    "\n",
    "# by indices\n",
    "data.iloc[[row1_index, row2_index, row3_index], [col1_index, col2_index, col3_index]]\n",
    "\n",
    "# column names + row indices\n",
    "data[[\"col1\", \"col2\", \"col3\"]].iloc[[row1_index, row2_index, row3_index]]\n",
    "\n",
    "# column indices + row names\n",
    "data.iloc[:, [col1_index, col2_index, col3_index]].loc[[\"row1\", \"row2\", \"row3\"]]\n",
    "```\n",
    "\n",
    "### 7. Access a subset of row and column ranges\n",
    "\n",
    "```python\n",
    "# by name\n",
    "data.loc[\"row1\":\"row2\", \"col1\":\"col2\"]\n",
    "\n",
    "# by index\n",
    "data.iloc[row1_index:row2_index, col1_index:col2_index]\n",
    "\n",
    "# column names + row indices\n",
    "data.loc[:, \"col1_name\":\"col2_name\"].iloc[row1_index:row2_index]\n",
    "\n",
    "# column indices + row names\n",
    "data.iloc[:, col1_index:col2_index].loc[\"row1\":\"row2\"]\n",
    "```"
   ]
  },
  {
   "attachments": {},
   "cell_type": "markdown",
   "metadata": {},
   "source": [
    "## Exploring available methods using the `dir()` function\n",
    "\n",
    "Python includes a `dir()` function that can be used to display all of the available methods (functions) that are built into a data object. In a previous lesson, we used some methods with a string. But we can see many more are available by using `dir()`:\n",
    "\n"
   ]
  },
  {
   "cell_type": "code",
   "execution_count": null,
   "metadata": {},
   "outputs": [],
   "source": [
    "my_string = 'Hello world!'   # creation of a string object \n",
    "dir(my_string)"
   ]
  },
  {
   "attachments": {},
   "cell_type": "markdown",
   "metadata": {},
   "source": [
    "You can use `help()` or `Shift+Tab` to get more information about what these methods do.\n",
    "\n",
    "Assume Pandas has been imported and the Gapminder GDP data for Europe has been loaded as `data`. Then, use `dir()` to find the function that prints out the median per-capita GDP across all European countries for each year that information is available."
   ]
  },
  {
   "attachments": {},
   "cell_type": "markdown",
   "metadata": {},
   "source": [
    "Among many choices, `dir()` lists the `median()` function as a possibility. Thus,"
   ]
  },
  {
   "cell_type": "code",
   "execution_count": null,
   "metadata": {},
   "outputs": [],
   "source": [
    "data.median()"
   ]
  },
  {
   "attachments": {},
   "cell_type": "markdown",
   "metadata": {},
   "source": [
    "## Interpretation\n",
    "\n",
    "Poland’s borders have been stable since 1945, but changed several times in the years before then. How would you handle this if you were creating a table of GDP per capita for Poland for the entire twentieth century?"
   ]
  },
  {
   "attachments": {},
   "cell_type": "markdown",
   "metadata": {},
   "source": [
    "Licensed under [CC-BY 4.0](http://swcarpentry.github.io/python-novice-gapminder/08-data-frames/index.html) 2018–2023 by [The Carpentries](https://carpentries.org/)\n",
    "\n",
    "Licensed under [CC-BY 4.0](http://swcarpentry.github.io/python-novice-gapminder/08-data-frames/index.html) 2016–2018 by [Software Carpentry Foundation](https://software-carpentry.org/)"
   ]
  }
 ],
 "metadata": {
  "kernelspec": {
   "display_name": ".env",
   "language": "python",
   "name": "python3"
  },
  "language_info": {
   "codemirror_mode": {
    "name": "ipython",
    "version": 3
   },
   "file_extension": ".py",
   "mimetype": "text/x-python",
   "name": "python",
   "nbconvert_exporter": "python",
   "pygments_lexer": "ipython3",
   "version": "3.10.8"
  },
  "orig_nbformat": 4
 },
 "nbformat": 4,
 "nbformat_minor": 2
}
