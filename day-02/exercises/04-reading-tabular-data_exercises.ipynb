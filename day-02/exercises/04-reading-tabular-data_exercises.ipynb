{
 "cells": [
  {
   "attachments": {},
   "cell_type": "markdown",
   "metadata": {},
   "source": [
    "# Reading Tabular Data into Data Frames: Exercises"
   ]
  },
  {
   "attachments": {},
   "cell_type": "markdown",
   "metadata": {},
   "source": [
    "## _Reading Other Data_\n",
    "\n",
    "Read the data in `gapminder_gdp_americas.csv` (which should be in the same directory as `gapminder_gdp_oceania.csv`) into a variable called `americas` and display its summary statistics."
   ]
  },
  {
   "cell_type": "code",
   "execution_count": null,
   "metadata": {},
   "outputs": [],
   "source": []
  },
  {
   "attachments": {},
   "cell_type": "markdown",
   "metadata": {},
   "source": [
    "## _Inspecting Data_\n",
    "\n",
    "After reading the data for the Americas, use `help(americas.head)` and `help(americas.tail)` to find out what `DataFrame.head` and `DataFrame.tail` do.\n",
    "\n",
    "1. What method call will display the first three rows of this data?\n",
    "1. What method call will display the last three columns of this data? (Hint: you may need to change your view of the data.)"
   ]
  },
  {
   "cell_type": "code",
   "execution_count": null,
   "metadata": {},
   "outputs": [],
   "source": []
  },
  {
   "attachments": {},
   "cell_type": "markdown",
   "metadata": {},
   "source": [
    "## _Reading Files in Other Directories_\n",
    "\n",
    "The data for your current project is stored in a file called `microbes.csv`, which is located in a folder called `field_data`. You are doing analysis in a notebook called `analysis.ipynb` in a sibling folder called `thesis`:\n",
    "\n",
    "```\n",
    "your_home_directory\n",
    "+-- field_data/\n",
    "|   +-- microbes.csv\n",
    "+-- thesis/\n",
    "    +-- analysis.ipynb\n",
    "```\n",
    "\n",
    "What value(s) should you pass to `read_csv` to read `microbes.csv` in `analysis.ipynb`?"
   ]
  },
  {
   "cell_type": "markdown",
   "metadata": {},
   "source": []
  },
  {
   "attachments": {},
   "cell_type": "markdown",
   "metadata": {},
   "source": [
    "## _Writing Data_\n",
    "\n",
    "As well as the `read_csv` function for reading data from a file, Pandas provides a `to_csv` function to write dataframes to files. Applying what you’ve learned about reading from files, write one of your dataframes to a file called `processed.csv`. You can use `help` to get information on how to use `to_csv`."
   ]
  },
  {
   "cell_type": "code",
   "execution_count": null,
   "metadata": {},
   "outputs": [],
   "source": []
  },
  {
   "attachments": {},
   "cell_type": "markdown",
   "metadata": {},
   "source": [
    "Licensed under [CC-BY 4.0](http://swcarpentry.github.io/python-novice-gapminder/07-reading-tabular/index.html) 2018–2023 by [The Carpentries](https://carpentries.org/)\n",
    "\n",
    "Licensed under [CC-BY 4.0](http://swcarpentry.github.io/python-novice-gapminder/07-reading-tabular/index.html) 2016–2018 by [Software Carpentry Foundation](https://software-carpentry.org/)"
   ]
  }
 ],
 "metadata": {
  "kernelspec": {
   "display_name": ".env",
   "language": "python",
   "name": "python3"
  },
  "language_info": {
   "codemirror_mode": {
    "name": "ipython",
    "version": 3
   },
   "file_extension": ".py",
   "mimetype": "text/x-python",
   "name": "python",
   "nbconvert_exporter": "python",
   "pygments_lexer": "ipython3",
   "version": "3.11.4"
  },
  "orig_nbformat": 4
 },
 "nbformat": 4,
 "nbformat_minor": 2
}
