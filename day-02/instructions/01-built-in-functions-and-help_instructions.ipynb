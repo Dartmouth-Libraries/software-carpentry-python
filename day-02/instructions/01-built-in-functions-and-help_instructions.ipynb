{
 "cells": [
  {
   "attachments": {},
   "cell_type": "markdown",
   "metadata": {},
   "source": [
    "# Built-in Functions and Help"
   ]
  },
  {
   "attachments": {},
   "cell_type": "markdown",
   "metadata": {},
   "source": [
    "## Overview\n",
    "\n",
    "**Teaching:** 15 min\n",
    "\n",
    "**Exercises:** 10 min\n",
    "\n",
    "### Questions\n",
    "- How can I use built-in functions?\n",
    "\n",
    "- How can I find out what they do?\n",
    "\n",
    "- What kind of errors can occur in programs?\n",
    "\n",
    "### Objectives\n",
    "- Explain the purpose of functions.\n",
    "\n",
    "- Correctly call built-in Python functions.\n",
    "\n",
    "- Correctly nest calls to built-in functions.\n",
    "\n",
    "- Use help to display documentation for built-in functions.\n",
    "\n",
    "- Correctly describe situations in which SyntaxError and NameError occur."
   ]
  },
  {
   "attachments": {},
   "cell_type": "markdown",
   "metadata": {},
   "source": [
    "## Use comments to add documentation to programs."
   ]
  },
  {
   "cell_type": "code",
   "execution_count": null,
   "metadata": {},
   "outputs": [],
   "source": [
    "# This sentence isn't executed by Python.\n",
    "adjustment = 0.5   # Neither is this - anything after '#' is ignored."
   ]
  },
  {
   "attachments": {},
   "cell_type": "markdown",
   "metadata": {},
   "source": [
    "## A function may take zero or more arguments."
   ]
  },
  {
   "attachments": {},
   "cell_type": "markdown",
   "metadata": {},
   "source": [
    "- We have seen some functions already — now let’s take a closer look.\n",
    " \n",
    "- An *argument* is a value passed into a function.\n",
    "\n",
    "- `len` takes exactly one.\n",
    "\n",
    "- `int`, `str`, and `float` create a new value from an existing one.\n",
    "\n",
    "- `print` takes zero or more.\n",
    "\n",
    "- `print` with no arguments prints a blank line.\n",
    "\n",
    "- Must always use parentheses, even if they’re empty, so that Python knows a function is being called."
   ]
  },
  {
   "cell_type": "code",
   "execution_count": null,
   "metadata": {},
   "outputs": [],
   "source": [
    "print('before')\n",
    "print()\n",
    "print('after')"
   ]
  },
  {
   "attachments": {},
   "cell_type": "markdown",
   "metadata": {},
   "source": [
    "## Every function returns something."
   ]
  },
  {
   "attachments": {},
   "cell_type": "markdown",
   "metadata": {},
   "source": [
    "- Every function call produces some result.\n",
    "\n",
    "- If the function doesn’t have a useful result to return, it usually returns the special value `None`. `None` is a Python object that stands in anytime there is no value."
   ]
  },
  {
   "cell_type": "code",
   "execution_count": null,
   "metadata": {},
   "outputs": [],
   "source": [
    "result = print('example')\n",
    "print('result of print is', result)"
   ]
  },
  {
   "attachments": {},
   "cell_type": "markdown",
   "metadata": {},
   "source": [
    "## Commonly-used built-in functions include `max`, `min`, and `round`."
   ]
  },
  {
   "attachments": {},
   "cell_type": "markdown",
   "metadata": {},
   "source": [
    "- Use `max` to find the largest value of one or more values.\n",
    " \n",
    "- Use `min` to find the smallest.\n",
    "\n",
    "- Both work on character strings as well as numbers.\n",
    "  - “Larger” and “smaller” use (0-9, A-Z, a-z) to compare letters."
   ]
  },
  {
   "cell_type": "code",
   "execution_count": null,
   "metadata": {},
   "outputs": [],
   "source": [
    "print(max(1, 2, 3))\n",
    "print(min('a', 'A', '0'))"
   ]
  },
  {
   "attachments": {},
   "cell_type": "markdown",
   "metadata": {},
   "source": [
    "## Functions may only work for certain (combinations of) arguments."
   ]
  },
  {
   "attachments": {},
   "cell_type": "markdown",
   "metadata": {},
   "source": [
    "- `max` and `min` must be given at least one argument.\n",
    "  - “Largest of the empty set” is a meaningless question.\n",
    "- And they must be given things that can meaningfully be compared."
   ]
  },
  {
   "cell_type": "code",
   "execution_count": null,
   "metadata": {},
   "outputs": [],
   "source": [
    "print(max(1, 'a'))"
   ]
  },
  {
   "attachments": {},
   "cell_type": "markdown",
   "metadata": {},
   "source": [
    "## Functions may have default values for some arguments."
   ]
  },
  {
   "attachments": {},
   "cell_type": "markdown",
   "metadata": {},
   "source": [
    "- `round` will round off a floating-point number.\n",
    "- By default, rounds to zero decimal places."
   ]
  },
  {
   "cell_type": "code",
   "execution_count": null,
   "metadata": {},
   "outputs": [],
   "source": [
    "round(3.712)"
   ]
  },
  {
   "attachments": {},
   "cell_type": "markdown",
   "metadata": {},
   "source": [
    "We can specify the number of decimal places we want."
   ]
  },
  {
   "cell_type": "code",
   "execution_count": null,
   "metadata": {},
   "outputs": [],
   "source": [
    "round(3.712, 1)"
   ]
  },
  {
   "attachments": {},
   "cell_type": "markdown",
   "metadata": {},
   "source": [
    "## Functions attached to objects are called methods"
   ]
  },
  {
   "attachments": {},
   "cell_type": "markdown",
   "metadata": {},
   "source": [
    "- Functions take another form that will be common in the pandas episodes.\n",
    "- Methods have parentheses like functions, but come after the variable.\n",
    "- Some methods are used for internal Python operations, and are marked with double underlines."
   ]
  },
  {
   "cell_type": "code",
   "execution_count": null,
   "metadata": {},
   "outputs": [],
   "source": [
    "my_string = 'Hello world!'  # creation of a string object \n",
    "\n",
    "print(len(my_string))       # the len function takes a string as an argument and returns the length of the string\n",
    "\n",
    "print(my_string.swapcase()) # calling the swapcase method on the my_string object\n",
    "\n",
    "print(my_string.__len__())  # calling the internal __len__ method on the my_string object, used by len(my_string)\n"
   ]
  },
  {
   "attachments": {},
   "cell_type": "markdown",
   "metadata": {},
   "source": [
    "- You might even see them chained together. They operate left to right."
   ]
  },
  {
   "cell_type": "code",
   "execution_count": null,
   "metadata": {},
   "outputs": [],
   "source": [
    "print(my_string.isupper())          # Not all the letters are uppercase\n",
    "print(my_string.upper())            # This capitalizes all the letters\n",
    "\n",
    "print(my_string.upper().isupper())  # Now all the letters are uppercase"
   ]
  },
  {
   "attachments": {},
   "cell_type": "markdown",
   "metadata": {},
   "source": [
    "## Use the built-in function help to get help for a function."
   ]
  },
  {
   "attachments": {},
   "cell_type": "markdown",
   "metadata": {},
   "source": [
    "- Every built-in function has online documentation."
   ]
  },
  {
   "cell_type": "code",
   "execution_count": null,
   "metadata": {},
   "outputs": [],
   "source": [
    "help(round)"
   ]
  },
  {
   "attachments": {},
   "cell_type": "markdown",
   "metadata": {},
   "source": [
    "## The Jupyter Notebook has two ways to get help."
   ]
  },
  {
   "attachments": {},
   "cell_type": "markdown",
   "metadata": {},
   "source": [
    "- Option 1: Place the cursor near where the function is invoked in a cell (i.e., the function name or its parameters),\n",
    "  - Hold down `Shift`, and press `Tab`.\n",
    "  - Do this several times to expand the information returned.\n",
    "- Option 2: Type the function name in a cell with a question mark after it. Then run the cell."
   ]
  },
  {
   "cell_type": "code",
   "execution_count": null,
   "metadata": {},
   "outputs": [],
   "source": [
    "round?"
   ]
  },
  {
   "attachments": {},
   "cell_type": "markdown",
   "metadata": {},
   "source": [
    "## Python reports a syntax error when it can’t understand the source of a program."
   ]
  },
  {
   "attachments": {},
   "cell_type": "markdown",
   "metadata": {},
   "source": [
    "- Won’t even try to run the program if it can’t be parsed.\n"
   ]
  },
  {
   "cell_type": "code",
   "execution_count": null,
   "metadata": {},
   "outputs": [],
   "source": [
    "# Forgot to close the quote marks around the string.\n",
    "name = 'Feng"
   ]
  },
  {
   "cell_type": "code",
   "execution_count": null,
   "metadata": {},
   "outputs": [],
   "source": [
    "# An extra '=' in the assignment.\n",
    "age = = 52"
   ]
  },
  {
   "cell_type": "code",
   "execution_count": null,
   "metadata": {},
   "outputs": [],
   "source": [
    "print(\"hello world\""
   ]
  },
  {
   "cell_type": "markdown",
   "metadata": {},
   "source": [
    "## Python reports a runtime error when something goes wrong while a program is executing."
   ]
  },
  {
   "cell_type": "code",
   "execution_count": null,
   "metadata": {},
   "outputs": [],
   "source": [
    "age = 53\n",
    "remaining = 100 - aege # mis-spelled 'age'"
   ]
  },
  {
   "attachments": {},
   "cell_type": "markdown",
   "metadata": {},
   "source": [
    "- Fix syntax errors by reading the source and runtime errors by tracing execution."
   ]
  },
  {
   "attachments": {},
   "cell_type": "markdown",
   "metadata": {},
   "source": [
    "## Exercises\n",
    "\n",
    "See `../exercises/01-built-in-functions-and-help_exercises.ipynb`"
   ]
  },
  {
   "attachments": {},
   "cell_type": "markdown",
   "metadata": {},
   "source": [
    "## Explore the Python docs!"
   ]
  },
  {
   "attachments": {},
   "cell_type": "markdown",
   "metadata": {},
   "source": [
    "The [official Python documentation](https://docs.python.org/3/) is arguably the most complete source of information about the language. It is available in different languages and contains a lot of useful resources. The [Built-in Functions](https://docs.python.org/3/library/functions.html) page contains a catalogue of all of these functions, including the ones that we’ve covered in this lesson. Some of these are more advanced and unnecessary at the moment, but others are very simple and useful."
   ]
  },
  {
   "attachments": {},
   "cell_type": "markdown",
   "metadata": {},
   "source": [
    "## Key Points"
   ]
  },
  {
   "attachments": {},
   "cell_type": "markdown",
   "metadata": {},
   "source": [
    "- Use comments to add documentation to programs.\n",
    "\n",
    "- A function may take zero or more arguments.\n",
    "\n",
    "- Commonly-used built-in functions include max, min, and round.\n",
    "\n",
    "- Functions may only work for certain (combinations of) arguments.\n",
    "\n",
    "- Functions may have default values for some arguments.\n",
    "\n",
    "- Use the built-in function help to get help for a function.\n",
    "\n",
    "- The Jupyter Notebook has two ways to get help.\n",
    "\n",
    "- Every function returns something.\n",
    "\n",
    "- Python reports a syntax error when it can’t understand the source of a program.\n",
    "\n",
    "- Python reports a runtime error when something goes wrong while a program is executing.\n",
    "\n",
    "- Fix syntax errors by reading the source code, and runtime errors by tracing the program’s execution."
   ]
  },
  {
   "attachments": {},
   "cell_type": "markdown",
   "metadata": {},
   "source": [
    "Licensed under [CC-BY 4.0](http://swcarpentry.github.io/python-novice-gapminder/04-built-in/index.html) 2018–2023 by [The Carpentries](https://carpentries.org/)\n",
    "\n",
    "Licensed under [CC-BY 4.0](http://swcarpentry.github.io/python-novice-gapminder/04-built-in/index.html) 2016–2018 by [Software Carpentry Foundation](https://software-carpentry.org/)"
   ]
  }
 ],
 "metadata": {
  "kernelspec": {
   "display_name": ".env",
   "language": "python",
   "name": "python3"
  },
  "language_info": {
   "codemirror_mode": {
    "name": "ipython",
    "version": 3
   },
   "file_extension": ".py",
   "mimetype": "text/x-python",
   "name": "python",
   "nbconvert_exporter": "python",
   "pygments_lexer": "ipython3",
   "version": "3.10.8"
  },
  "orig_nbformat": 4
 },
 "nbformat": 4,
 "nbformat_minor": 2
}
