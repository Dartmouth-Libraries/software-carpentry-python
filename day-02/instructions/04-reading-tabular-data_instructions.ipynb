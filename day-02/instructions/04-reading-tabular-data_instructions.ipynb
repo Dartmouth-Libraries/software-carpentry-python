{
 "cells": [
  {
   "attachments": {},
   "cell_type": "markdown",
   "metadata": {},
   "source": [
    "# Reading Tabular Data into Data Frames"
   ]
  },
  {
   "attachments": {},
   "cell_type": "markdown",
   "metadata": {},
   "source": [
    "## Overview"
   ]
  },
  {
   "attachments": {},
   "cell_type": "markdown",
   "metadata": {},
   "source": [
    "**Teaching:** 10 min\n",
    "\n",
    "**Exercises:** 10 min\n",
    "\n",
    "## Questions\n",
    "- How can I read tabular data?\n",
    "\n",
    "## Objectives\n",
    "- Import the Pandas library.\n",
    "\n",
    "- Use Pandas to load a simple CSV data set.\n",
    "\n",
    "- Get some basic information about a Pandas DataFrame."
   ]
  },
  {
   "attachments": {},
   "cell_type": "markdown",
   "metadata": {},
   "source": [
    "## Use the Pandas library to do statistics on tabular data."
   ]
  },
  {
   "attachments": {},
   "cell_type": "markdown",
   "metadata": {},
   "source": [
    "- [Pandas](https://pandas.pydata.org/) is a widely-used Python library for statistics, particularly on tabular data.\n",
    "- Borrows many features from R’s dataframes.\n",
    "  - A 2-dimensional table whose columns have names and potentially have different data types.\n",
    "- Load it with `import pandas as pd`. The alias pd is commonly used for Pandas.\n",
    "- Read a Comma Separated Values (CSV) data file with `pd.read_csv`.\n",
    "  - Argument is the name of the file to be read.\n",
    "  - Assign result to a variable to store the data that was read."
   ]
  },
  {
   "cell_type": "code",
   "execution_count": null,
   "metadata": {},
   "outputs": [],
   "source": [
    "import pandas as pd\n",
    "\n",
    "data = pd.read_csv('../../data/gapminder_gdp_oceania.csv')\n",
    "print(data)"
   ]
  },
  {
   "attachments": {},
   "cell_type": "markdown",
   "metadata": {},
   "source": [
    "- The columns in a dataframe are the observed variables, and the rows are the observations.\n",
    "- Pandas uses backslash `\\` to show wrapped lines when output is too wide to fit the screen."
   ]
  },
  {
   "attachments": {},
   "cell_type": "markdown",
   "metadata": {},
   "source": [
    "### File Not Found\n",
    "\n",
    "Our lessons store their data files in a data sub-directory, which is two levels up from this file. That's why the path to the file is `../../data/gapminder_gdp_oceania.csv`. Each set of `..` takes you up one level in the directory tree. If you forget to include `../../data/`, or if you include it but your copy of the file is somewhere else, you will get a runtime error that ends with a line like this:\n",
    "\n",
    "```\n",
    "FileNotFoundError: [Errno 2] No such file or directory: '../../data/gapminder_gdp_oceania.csv'\n",
    "```\n"
   ]
  },
  {
   "attachments": {},
   "cell_type": "markdown",
   "metadata": {},
   "source": [
    "## Use `index_col` to specify that a column’s values should be used as row headings."
   ]
  },
  {
   "attachments": {},
   "cell_type": "markdown",
   "metadata": {},
   "source": [
    "- Row headings are numbers (`0` and `1` in this case).\n",
    "- Really want to index by country.\n",
    "- Pass the name of the column to `read_csv` as its `index_col` parameter to do this.\n"
   ]
  },
  {
   "cell_type": "code",
   "execution_count": null,
   "metadata": {},
   "outputs": [],
   "source": [
    "data = pd.read_csv('../../data/gapminder_gdp_oceania.csv', index_col='country')\n",
    "data"
   ]
  },
  {
   "attachments": {},
   "cell_type": "markdown",
   "metadata": {},
   "source": [
    "## Use the `DataFrame.info()` method to find out more about a dataframe."
   ]
  },
  {
   "cell_type": "code",
   "execution_count": null,
   "metadata": {},
   "outputs": [],
   "source": [
    "data.info()"
   ]
  },
  {
   "attachments": {},
   "cell_type": "markdown",
   "metadata": {},
   "source": [
    "- This is a `DataFrame`\n",
    "- Two rows named `'Australia'` and `'New Zealand'`\n",
    "- Twelve columns, each of which has two actual 64-bit floating point values.\n",
    "  - We will talk later about null values, which are used to represent missing observations.\n",
    "- Uses 208 bytes of memory."
   ]
  },
  {
   "attachments": {},
   "cell_type": "markdown",
   "metadata": {},
   "source": [
    "## The `DataFrame.columns` variable stores information about the dataframe’s columns."
   ]
  },
  {
   "attachments": {},
   "cell_type": "markdown",
   "metadata": {},
   "source": [
    "- Note that this is data, *not* a method. (It doesn’t have parentheses.)\n",
    "  - Like `math.pi`.\n",
    "  - So do not use `()` to try to call it.\n",
    "- Called a `member variable`, or just `member`."
   ]
  },
  {
   "cell_type": "code",
   "execution_count": null,
   "metadata": {},
   "outputs": [],
   "source": [
    "print(data.columns)"
   ]
  },
  {
   "attachments": {},
   "cell_type": "markdown",
   "metadata": {},
   "source": [
    "## Use `DataFrame.T` to transpose a dataframe."
   ]
  },
  {
   "attachments": {},
   "cell_type": "markdown",
   "metadata": {},
   "source": [
    "- Sometimes want to treat columns as rows and vice versa.\n",
    "- Transpose (written `.T`) doesn’t copy the data, just changes the program’s view of it.\n",
    "- Like `columns`, it is a member variable."
   ]
  },
  {
   "cell_type": "code",
   "execution_count": null,
   "metadata": {},
   "outputs": [],
   "source": [
    "data.T"
   ]
  },
  {
   "attachments": {},
   "cell_type": "markdown",
   "metadata": {},
   "source": [
    "# Use `DataFrame.describe()` to get summary statistics about data."
   ]
  },
  {
   "attachments": {},
   "cell_type": "markdown",
   "metadata": {},
   "source": [
    "`DataFrame.describe()` gets the summary statistics of only the columns that have numerical data. All other columns are ignored, unless you use the argument `include='all'`."
   ]
  },
  {
   "cell_type": "code",
   "execution_count": null,
   "metadata": {},
   "outputs": [],
   "source": [
    "data.describe()"
   ]
  },
  {
   "attachments": {},
   "cell_type": "markdown",
   "metadata": {},
   "source": [
    "- Not particularly useful with just two records, but very helpful when there are thousands."
   ]
  },
  {
   "attachments": {},
   "cell_type": "markdown",
   "metadata": {},
   "source": [
    "## Exercises\n",
    "\n",
    "See `../exercises/03-reading-tabular-data_exercises.ipynb`"
   ]
  },
  {
   "attachments": {},
   "cell_type": "markdown",
   "metadata": {},
   "source": [
    "## Key Points\n",
    "\n",
    "- Use the Pandas library to get basic statistics out of tabular data.\n",
    "\n",
    "- Use `index_col` to specify that a column’s values should be used as row headings.\n",
    "\n",
    "- Use `DataFrame.info()` to find out more about a dataframe.\n",
    "\n",
    "- The `DataFrame.columns` variable stores information about the dataframe’s columns.\n",
    "\n",
    "- Use `DataFrame.T` to transpose a dataframe.\n",
    "\n",
    "- Use `DataFrame.describe()` to get summary statistics about data."
   ]
  },
  {
   "attachments": {},
   "cell_type": "markdown",
   "metadata": {},
   "source": [
    "Licensed under [CC-BY 4.0](http://swcarpentry.github.io/python-novice-gapminder/07-reading-tabular/index.html) 2018–2023 by [The Carpentries](https://carpentries.org/)\n",
    "\n",
    "Licensed under [CC-BY 4.0](http://swcarpentry.github.io/python-novice-gapminder/07-reading-tabular/index.html) 2016–2018 by [Software Carpentry Foundation](https://software-carpentry.org/)"
   ]
  },
  {
   "cell_type": "markdown",
   "metadata": {},
   "source": []
  }
 ],
 "metadata": {
  "kernelspec": {
   "display_name": ".env",
   "language": "python",
   "name": "python3"
  },
  "language_info": {
   "codemirror_mode": {
    "name": "ipython",
    "version": 3
   },
   "file_extension": ".py",
   "mimetype": "text/x-python",
   "name": "python",
   "nbconvert_exporter": "python",
   "pygments_lexer": "ipython3",
   "version": "3.10.8"
  }
 },
 "nbformat": 4,
 "nbformat_minor": 2
}
