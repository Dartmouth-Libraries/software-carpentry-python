{
 "cells": [
  {
   "cell_type": "markdown",
   "metadata": {},
   "source": [
    "# Looping over data sets\n",
    "\n",
    "## Questions\n",
    "\n",
    "- How can I process many data sets with a single command?\n",
    "\n",
    "## Objectives\n",
    "\n",
    "- Be able to read and write globbing expressions that match sets of files.\n",
    "- Use glob to create lists of files.\n",
    "- Write for loops to perform operations on files given their names in a list.\n"
   ]
  },
  {
   "cell_type": "markdown",
   "metadata": {},
   "source": [
    "## Use a for loop to process files given a list of their names.\n",
    "\n",
    "- A filename is a character string.\n",
    "- And lists can contain character strings.\n"
   ]
  },
  {
   "cell_type": "code",
   "execution_count": null,
   "metadata": {},
   "outputs": [],
   "source": [
    "import pandas as pd\n",
    "\n",
    "for filename in [\n",
    "    \"../../data/gapminder_gdp_africa.csv\",\n",
    "    \"../../data/gapminder_gdp_asia.csv\",\n",
    "]:\n",
    "    data = pd.read_csv(filename, index_col=\"country\")\n",
    "    print(filename, data.min())"
   ]
  },
  {
   "cell_type": "markdown",
   "metadata": {},
   "source": [
    "# Use `glob.glob` to find sets of files whose names match a pattern.\n",
    "\n",
    "- In Unix, the term “globbing” means “matching a set of files with a pattern”.\n",
    "- The most common patterns are:\n",
    "  - `*` meaning “match zero or more characters”\n",
    "  - `?` meaning “match exactly one character”\n",
    "- Python’s standard library contains the `glob` module to provide pattern matching functionality\n",
    "- The `glob` module contains a function also called `glob` to match file patterns\n",
    "- E.g., `glob.glob('*.txt')` matches all files in the current directory whose names end with `.txt`.\n",
    "- Result is a (possibly empty) list of character strings.\n"
   ]
  },
  {
   "cell_type": "code",
   "execution_count": null,
   "metadata": {},
   "outputs": [],
   "source": [
    "import glob\n",
    "\n",
    "print(\"all csv files in data directory:\", glob.glob(\"../../data/*.csv\"))"
   ]
  },
  {
   "cell_type": "code",
   "execution_count": null,
   "metadata": {},
   "outputs": [],
   "source": [
    "print(\"all PDB files:\", glob.glob(\"*.pdb\"))"
   ]
  },
  {
   "cell_type": "markdown",
   "metadata": {},
   "source": [
    "# Use glob and for to process batches of files.\n",
    "\n",
    "- Helps a lot if the files are named and stored systematically and consistently so that simple patterns will find the right data.\n"
   ]
  },
  {
   "cell_type": "code",
   "execution_count": null,
   "metadata": {},
   "outputs": [],
   "source": [
    "for filename in glob.glob(\"../../data/gapminder_*.csv\"):\n",
    "    data = pd.read_csv(filename)\n",
    "    print(filename, data[\"gdpPercap_1952\"].min())"
   ]
  },
  {
   "cell_type": "markdown",
   "metadata": {},
   "source": [
    "- This includes all data, as well as per-region data.\n",
    "- Use a more specific pattern in the exercises to exclude the whole data set.\n",
    "- But note that the minimum of the entire data set is also the minimum of one of the data sets, which is a nice check on correctness.\n"
   ]
  },
  {
   "cell_type": "markdown",
   "metadata": {},
   "source": [
    "## Dealing with file paths\n",
    "\n",
    "The `pathlib` module provides useful abstractions for file and path manipulation like returning the name of a file without the file extension. This is very useful when looping over files and directories. In the example below, we create a path object and inspect its attributes.\n"
   ]
  },
  {
   "cell_type": "code",
   "execution_count": null,
   "metadata": {},
   "outputs": [],
   "source": [
    "from pathlib import Path\n",
    "\n",
    "p = Path(\"../../data/gapminder_gdp_africa.csv\")\n",
    "print(p.parent)\n",
    "print(p.stem)\n",
    "print(p.suffix)"
   ]
  },
  {
   "cell_type": "markdown",
   "metadata": {},
   "source": [
    "**HINT:** Check all available attributes and methods on the path object with the `dir()` function.\n"
   ]
  },
  {
   "cell_type": "markdown",
   "metadata": {},
   "source": [
    "## Key points\n",
    "\n",
    "- Use a `for` loop to process files given a list of their names.\n",
    "- Use `glob.glob` to find sets of files whose names match a pattern.\n",
    "- Use `glob` and `for` to process batches of files.\n"
   ]
  },
  {
   "cell_type": "markdown",
   "metadata": {},
   "source": [
    "Licensed under [CC-BY 4.0](http://swcarpentry.github.io/python-novice-gapminder/18-style/index.html) 2018–2023 by [The Carpentries](https://carpentries.org/)\n",
    "\n",
    "Licensed under [CC-BY 4.0](http://swcarpentry.github.io/python-novice-gapminder/18-style/index.html) 2016–2018 by [Software Carpentry Foundation](https://software-carpentry.org/)\n"
   ]
  }
 ],
 "metadata": {
  "kernelspec": {
   "display_name": ".env",
   "language": "python",
   "name": "python3"
  },
  "language_info": {
   "codemirror_mode": {
    "name": "ipython",
    "version": 3
   },
   "file_extension": ".py",
   "mimetype": "text/x-python",
   "name": "python",
   "nbconvert_exporter": "python",
   "pygments_lexer": "ipython3",
   "version": "3.10.8"
  }
 },
 "nbformat": 4,
 "nbformat_minor": 2
}
