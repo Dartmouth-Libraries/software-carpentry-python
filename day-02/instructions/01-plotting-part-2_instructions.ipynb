{
 "cells": [
  {
   "cell_type": "markdown",
   "metadata": {},
   "source": [
    "# Plotting (continued)\n",
    "\n",
    "## Questions\n",
    "\n",
    "- How can I plot my data?\n",
    "- How can I save my plot for publishing?\n",
    "\n",
    "## Objectives\n",
    "\n",
    "- Create a time series plot showing a single data set.\n",
    "- Create a scatter plot showing relationship between two data sets.\n"
   ]
  },
  {
   "cell_type": "markdown",
   "metadata": {},
   "source": [
    "## [matplotlib](https://matplotlib.org/) is the most widely used scientific plotting library in Python.\n",
    "\n",
    "- Pandas uses matplotlib \"under-the-hood\" for plotting.\n",
    "- Manipulation of these plots require directly interacting with matplotlib, however.\n",
    "- Commonly use a sub-library called matplotlib.pyplot.\n",
    "- The Jupyter Notebook will render plots inline by default.\n"
   ]
  },
  {
   "cell_type": "code",
   "execution_count": null,
   "metadata": {},
   "outputs": [],
   "source": [
    "import matplotlib.pyplot as plt"
   ]
  },
  {
   "cell_type": "markdown",
   "metadata": {},
   "source": [
    "- Simple plots are then (fairly) simple to create.\n"
   ]
  },
  {
   "cell_type": "code",
   "execution_count": null,
   "metadata": {},
   "outputs": [],
   "source": [
    "time = [0, 1, 2, 3]\n",
    "position = [0, 100, 200, 300]\n",
    "\n",
    "plt.plot(time, position)\n",
    "plt.xlabel(\"Time (hr)\")\n",
    "plt.ylabel(\"Position (km)\")"
   ]
  },
  {
   "cell_type": "markdown",
   "metadata": {},
   "source": [
    "## Annotate plots created through pandas using matplotlib\n"
   ]
  },
  {
   "cell_type": "code",
   "execution_count": null,
   "metadata": {},
   "outputs": [],
   "source": [
    "import pandas as pd\n",
    "\n",
    "data = pd.read_csv(\"../../../data/gapminder_gdp_oceania.csv\", index_col=\"country\")\n",
    "\n",
    "# Extract year from last 4 characters of each column name\n",
    "# The current column names are structured as 'gdpPercap_(year)',\n",
    "# so we want to keep the (year) part only for clarity when plotting GDP vs. years\n",
    "# To do this we use replace(), which removes from the string the characters stated in the argument\n",
    "# This method works on strings, so we use replace() from Pandas Series.str vectorized string functions\n",
    "\n",
    "years = data.columns.str.replace(\"gdpPercap_\", \"\")\n",
    "\n",
    "# Convert year values to integers, saving results back to dataframe\n",
    "\n",
    "data.columns = years.astype(int)\n",
    "\n",
    "data.T.plot()\n",
    "plt.ylabel(\"GDP per capita\")"
   ]
  },
  {
   "cell_type": "markdown",
   "metadata": {},
   "source": [
    "## Many styles of plot are available.\n",
    "\n",
    "- For example, do a bar plot using a fancier style.\n"
   ]
  },
  {
   "cell_type": "code",
   "execution_count": null,
   "metadata": {},
   "outputs": [],
   "source": [
    "plt.style.use(\"ggplot\")\n",
    "data.T.plot(kind=\"bar\")\n",
    "plt.ylabel(\"GDP per capita\")"
   ]
  },
  {
   "cell_type": "markdown",
   "metadata": {},
   "source": [
    "## Data can also be plotted by calling the matplotlib plot function directly.\n",
    "\n",
    "- The command is `plt.plot(x, y)`\n",
    "- The color and format of markers can also be specified as an additional optional argument e.g., `b-` is a blue line, `g--` is a green dashed line.\n"
   ]
  },
  {
   "cell_type": "markdown",
   "metadata": {},
   "source": [
    "## Get Australia data from dataframe\n"
   ]
  },
  {
   "cell_type": "code",
   "execution_count": null,
   "metadata": {},
   "outputs": [],
   "source": [
    "years = data.columns\n",
    "gdp_australia = data.loc[\"Australia\"]\n",
    "\n",
    "plt.plot(years, gdp_australia, \"g--\")"
   ]
  },
  {
   "cell_type": "markdown",
   "metadata": {},
   "source": [
    "## Can plot many sets of data together.\n",
    "\n",
    "Often when plotting multiple datasets on the same figure it is desirable to have a legend describing the data.\n",
    "\n",
    "This can be done in `matplotlib` in two stages:\n",
    "\n",
    "1. Provide a label for each dataset in the figure\n",
    "2. Instruct `matplotlib` to create the legend\n"
   ]
  },
  {
   "cell_type": "code",
   "execution_count": null,
   "metadata": {},
   "outputs": [],
   "source": [
    "# Select two countries' worth of data.\n",
    "gdp_australia = data.loc[\"Australia\"]\n",
    "gdp_nz = data.loc[\"New Zealand\"]\n",
    "\n",
    "# Plot with differently-colored markers.\n",
    "plt.plot(years, gdp_australia, \"b-\", label=\"Australia\")\n",
    "plt.plot(years, gdp_nz, \"g-\", label=\"New Zealand\")\n",
    "\n",
    "# Create legend.\n",
    "plt.legend(loc=\"upper left\")\n",
    "plt.xlabel(\"Year\")\n",
    "plt.ylabel(\"GDP per capita ($)\")"
   ]
  },
  {
   "cell_type": "markdown",
   "metadata": {},
   "source": [
    "- Plot a scatter plot correlating the GDP of Australia and New Zealand\n",
    "- Use either `plt.scatter` or `DataFrame.plot.scatter`\n"
   ]
  },
  {
   "cell_type": "code",
   "execution_count": null,
   "metadata": {},
   "outputs": [],
   "source": [
    "plt.scatter(gdp_australia, gdp_nz)"
   ]
  },
  {
   "cell_type": "code",
   "execution_count": null,
   "metadata": {},
   "outputs": [],
   "source": [
    "data.T.plot.scatter(x=\"Australia\", y=\"New Zealand\")"
   ]
  },
  {
   "cell_type": "markdown",
   "metadata": {},
   "source": [
    "## Seaborn is pandas best friend.\n",
    "\n",
    "- Another important data visualization library is `seaborn`, which specializes in statistical graphs.\n",
    "- `seaborn` is particularly useful when working `pandas` DataFrames\n",
    "  - Adds labels based on variable names in dataframe\n",
    "- `seaborn` uses `matplotlib` under the hood, so all of the above still applies\n",
    "- To get the most out of it, the data should be in long form (a.k.a. _tidy_)\n",
    "\n",
    "<figure>\n",
    "<img src=\"https://seaborn.pydata.org/_images/data_structure_19_0.png\" style=\"width:60%\">\n",
    "<figcaption align=\"left\">Long-form versus wide-form data. Each color denotes a variable.</figcaption>\n",
    "</figure>\n",
    "\n",
    "- The gapminder data is in wide format, but we can make it long format using `melt`\n"
   ]
  },
  {
   "cell_type": "code",
   "execution_count": null,
   "metadata": {},
   "outputs": [],
   "source": [
    "data_long = data.melt(\n",
    "    ignore_index=False, var_name=\"year\", value_name=\"gdpPercap\"\n",
    ").reset_index()\n",
    "data_long"
   ]
  },
  {
   "cell_type": "markdown",
   "metadata": {},
   "source": [
    "- Now we can create a lineplot of the dataframe:\n"
   ]
  },
  {
   "cell_type": "code",
   "execution_count": null,
   "metadata": {},
   "outputs": [],
   "source": [
    "import seaborn as sns\n",
    "\n",
    "sns.lineplot(\n",
    "    data_long,\n",
    "    x=\"year\",\n",
    "    y=\"gdpPercap\",\n",
    ")\n",
    "\n",
    "plt.xlabel(\"Year\")\n",
    "plt.ylabel(\"GDP per capita\")"
   ]
  },
  {
   "cell_type": "markdown",
   "metadata": {},
   "source": [
    "- When there are multiple values for each `x`, `seaborn` by default shows the mean and the confidence interval of those values.\n",
    "- To draw a separate line for each level of `country`, we can use the `hue` and/or `style` parameter:\n"
   ]
  },
  {
   "cell_type": "code",
   "execution_count": null,
   "metadata": {},
   "outputs": [],
   "source": [
    "sns.lineplot(data_long, x=\"year\", y=\"gdpPercap\", hue=\"country\")\n",
    "\n",
    "plt.xlabel(\"Year\")\n",
    "plt.ylabel(\"GDP per capita\")"
   ]
  },
  {
   "cell_type": "markdown",
   "metadata": {},
   "source": [
    "## Saving your plot to a file\n",
    "\n",
    "If you are satisfied with the plot you see you may want to save it to a file, perhaps to include it in a publication. There is a function in the matplotlib.pyplot module that accomplishes this: savefig. calling this function, e.g. with\n",
    "\n",
    "```{python}\n",
    "plt.savefig('my_figure.png')\n",
    "```\n",
    "\n",
    "Will save the current figure to the file `my_figure.png`. the file format will automatically be deduced from the file name extension (other formats are pdf, ps, eps and svg).\n",
    "\n",
    "Note that functions in `plt` refer to a global figure variable and after a figure has been displayed to the screen (e.g. with `plt.show`) `matplotlib` will make this variable refer to a new empty figure. therefore, make sure you call `plt.savefig` before the plot is displayed to the screen, otherwise you may find a file with an empty plot.\n",
    "\n",
    "When using dataframes, data is often generated and plotted to screen in one line. in addition to using `plt.savefig`, we can save a reference to the current figure in a local variable (with `plt.gcf`) and call the `savefig` class method from that variable to save the figure to file.\n",
    "\n",
    "```{python}\n",
    "data.plot(kind='bar')\n",
    "fig = plt.gcf() # get current figure\n",
    "fig.savefig('my_figure.png')\n",
    "```\n"
   ]
  },
  {
   "cell_type": "markdown",
   "metadata": {},
   "source": [
    "## Making your plots accessible\n",
    "\n",
    "Whenever you are generating plots to go into a paper or a presentation, there are a few things you can do to make sure that everyone can understand your plots.\n",
    "\n",
    "- Always make sure your text is large enough to read. Use the `fontsize` parameter in `xlabel`, `ylabel`, `title`, and `legend`, and [`tick_params` with `labelsize`](https://matplotlib.org/stable/api/_as_gen/matplotlib.axes.Axes.tick_params.html) to increase the text size of the numbers on your axes.\n",
    "- Similarly, you should make your graph elements easy to see. Use `s` to increase the size of your scatterplot markers and `linewidth` to increase the sizes of your plot lines.\n",
    "- Using color (and nothing else) to distinguish between different plot elements will make your plots unreadable to anyone who is colorblind, or who happens to have a black-and-white office printer. For lines, the `linestyle` parameter lets you use different types of lines. For scatterplots, `marker` lets you change the shape of your points. If you’re unsure about your colors, you can use [coblis](https://www.color-blindness.com/coblis-color-blindness-simulator/) or [color oracle](https://colororacle.org/) to simulate what your plots would look like to those with colorblindness.\n"
   ]
  },
  {
   "cell_type": "markdown",
   "metadata": {},
   "source": [
    "## Key points\n",
    "\n",
    "- `matplotlib` is the most widely used, general purpose scientific plotting library in Python.\n",
    "- Plot data directly from a Pandas dataframe.\n",
    "- Select and transform data, then plot it.\n",
    "- `seaborn` is closely matched to Pandas dataframes but requires specific format\n",
    "- Many styles of plot are available: see the Python Graph Gallery for more options.\n",
    "- Can plot many sets of data together.\n"
   ]
  },
  {
   "cell_type": "markdown",
   "metadata": {},
   "source": [
    "Licensed under [CC-BY 4.0](http://swcarpentry.github.io/python-novice-gapminder/18-style/index.html) 2018–2023 by [The Carpentries](https://carpentries.org/)\n",
    "\n",
    "Licensed under [CC-BY 4.0](http://swcarpentry.github.io/python-novice-gapminder/18-style/index.html) 2016–2018 by [Software Carpentry Foundation](https://software-carpentry.org/)\n"
   ]
  }
 ],
 "metadata": {
  "kernelspec": {
   "display_name": ".env",
   "language": "python",
   "name": "python3"
  },
  "language_info": {
   "codemirror_mode": {
    "name": "ipython",
    "version": 3
   },
   "file_extension": ".py",
   "mimetype": "text/x-python",
   "name": "python",
   "nbconvert_exporter": "python",
   "pygments_lexer": "ipython3",
   "version": "3.10.8"
  }
 },
 "nbformat": 4,
 "nbformat_minor": 2
}
