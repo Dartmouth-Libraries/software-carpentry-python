{
 "cells": [
  {
   "cell_type": "markdown",
   "metadata": {},
   "source": [
    "# Variable scope\n",
    "\n",
    "## Questions\n",
    "\n",
    "- How do function calls actually work?\n",
    "- How can I determine where errors occurred?\n",
    "\n",
    "## Objectives\n",
    "\n",
    "- Identify local and global variables.\n",
    "- Identify parameters as local variables.\n",
    "- Read a traceback and determine the file, function, and line number on which the error occurred, the type of error, and the error message.\n"
   ]
  },
  {
   "cell_type": "markdown",
   "metadata": {},
   "source": [
    "## The scope of a variable is the part of a program that can ‘see’ that variable.\n",
    "\n",
    "- There are only so many sensible names for variables.\n",
    "- People using functions shouldn’t have to worry about what variable names the author of the function used.\n",
    "- People writing functions shouldn’t have to worry about what variable names the function’s caller uses.\n",
    "- The part of a program in which a variable is visible is called its _scope_.\n"
   ]
  },
  {
   "cell_type": "code",
   "execution_count": null,
   "metadata": {},
   "outputs": [],
   "source": [
    "pressure = 103.9\n",
    "\n",
    "\n",
    "def adjust(t):\n",
    "    temperature = t * 1.43 / pressure\n",
    "    return temperature"
   ]
  },
  {
   "cell_type": "markdown",
   "metadata": {},
   "source": [
    "- `pressure` is a _global variable_.\n",
    "  - Defined outside any particular function.\n",
    "  - Visible everywhere.\n",
    "- `t` and `temperature` are _local variables_ in `adjust`.\n",
    "  - Defined in the function.\n",
    "  - Not visible in the main program.\n",
    "  - Remember: a function parameter is a variable that is automatically assigned a value when the function is called.\n"
   ]
  },
  {
   "cell_type": "code",
   "execution_count": null,
   "metadata": {},
   "outputs": [],
   "source": [
    "print(\"adjusted:\", adjust(0.9))\n",
    "print(\"temperature after call:\", temperature)"
   ]
  },
  {
   "cell_type": "markdown",
   "metadata": {},
   "source": [
    "## Key points\n",
    "\n",
    "- The scope of a variable is the part of a program that can ‘see’ that variable.\n"
   ]
  },
  {
   "cell_type": "markdown",
   "metadata": {},
   "source": [
    "Licensed under [CC-BY 4.0](http://swcarpentry.github.io/python-novice-gapminder/18-style/index.html) 2018–2023 by [The Carpentries](https://carpentries.org/)\n",
    "\n",
    "Licensed under [CC-BY 4.0](http://swcarpentry.github.io/python-novice-gapminder/18-style/index.html) 2016–2018 by [Software Carpentry Foundation](https://software-carpentry.org/)\n"
   ]
  }
 ],
 "metadata": {
  "kernelspec": {
   "display_name": ".env",
   "language": "python",
   "name": "python3"
  },
  "language_info": {
   "codemirror_mode": {
    "name": "ipython",
    "version": 3
   },
   "file_extension": ".py",
   "mimetype": "text/x-python",
   "name": "python",
   "nbconvert_exporter": "python",
   "pygments_lexer": "ipython3",
   "version": "3.10.8"
  }
 },
 "nbformat": 4,
 "nbformat_minor": 2
}
