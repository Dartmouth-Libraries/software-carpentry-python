{
 "cells": [
  {
   "cell_type": "markdown",
   "metadata": {},
   "source": [
    "# Variable scope\n"
   ]
  },
  {
   "cell_type": "markdown",
   "metadata": {},
   "source": [
    "## Local and global variable use\n",
    "\n",
    "Trace the values of all variables in this program as it is executed. (Use ‘—’ as the value of variables before and after they exist.)\n"
   ]
  },
  {
   "cell_type": "code",
   "execution_count": null,
   "metadata": {},
   "outputs": [],
   "source": [
    "limit = 100\n",
    "\n",
    "\n",
    "def clip(value):\n",
    "    return min(max(0.0, value), limit)\n",
    "\n",
    "\n",
    "value = -22.5\n",
    "print(clip(value))"
   ]
  },
  {
   "cell_type": "markdown",
   "metadata": {},
   "source": [
    "## Reading error messages\n",
    "\n",
    "Read the traceback below, and identify the following:\n",
    "\n",
    "1. How many levels does the traceback have?\n",
    "1. What is the file name where the error occurred?\n",
    "1. What is the function name where the error occurred?\n",
    "1. On which line number in this function did the error occur?\n",
    "1. What is the type of error?\n",
    "1. What is the error message?\n",
    "\n",
    "```\n",
    "---------------------------------------------------------------------------\n",
    "KeyError                                  Traceback (most recent call last)\n",
    "<ipython-input-2-e4c4cbafeeb5> in <module>()\n",
    "      1 import errors_02\n",
    "----> 2 errors_02.print_friday_message()\n",
    "\n",
    "/Users/ghopper/thesis/code/errors_02.py in print_friday_message()\n",
    "     13\n",
    "     14 def print_friday_message():\n",
    "---> 15     print_message(\"Friday\")\n",
    "\n",
    "/Users/ghopper/thesis/code/errors_02.py in print_message(day)\n",
    "      9         \"sunday\": \"Aw, the weekend is almost over.\"\n",
    "     10     }\n",
    "---> 11     print(messages[day])\n",
    "     12\n",
    "     13\n",
    "\n",
    "KeyError: 'Friday'\n",
    "```\n"
   ]
  },
  {
   "cell_type": "markdown",
   "metadata": {},
   "source": [
    "### Solution\n",
    "\n",
    "1. Three levels.\n",
    "1. `errors_02.py`\n",
    "1. `print_message`\n",
    "1. Line 11\n",
    "1. `KeyError`. These errors occur when we are trying to look up a key that does not exist (usually in a data structure such as a dictionary). We can find more information about the `KeyError` and other built-in exceptions in the [Python docs](https://docs.python.org/3/library/exceptions.html#KeyError).\n",
    "1. `KeyError: 'Friday'`\n"
   ]
  },
  {
   "cell_type": "markdown",
   "metadata": {},
   "source": [
    "Licensed under [CC-BY 4.0](http://swcarpentry.github.io/python-novice-gapminder/18-style/index.html) 2018–2023 by [The Carpentries](https://carpentries.org/)\n",
    "\n",
    "Licensed under [CC-BY 4.0](http://swcarpentry.github.io/python-novice-gapminder/18-style/index.html) 2016–2018 by [Software Carpentry Foundation](https://software-carpentry.org/)\n"
   ]
  }
 ],
 "metadata": {
  "kernelspec": {
   "display_name": ".env",
   "language": "python",
   "name": "python3"
  },
  "language_info": {
   "codemirror_mode": {
    "name": "ipython",
    "version": 3
   },
   "file_extension": ".py",
   "mimetype": "text/x-python",
   "name": "python",
   "nbconvert_exporter": "python",
   "pygments_lexer": "ipython3",
   "version": "3.10.8"
  }
 },
 "nbformat": 4,
 "nbformat_minor": 2
}
