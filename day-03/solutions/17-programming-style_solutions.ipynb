{
 "cells": [
  {
   "cell_type": "markdown",
   "metadata": {},
   "source": [
    "# Programming Style"
   ]
  },
  {
   "cell_type": "markdown",
   "metadata": {},
   "source": [
    "# What will be shown?\n",
    "\n",
    "Highlight the lines in the code below that will be available as online help. Are there lines that should be made available, but won’t be? Will any lines produce a syntax error or a runtime error?\n",
    "\n",
    "```{python}\n",
    "\"Find maximum edit distance between multiple sequences.\"\n",
    "# This finds the maximum distance between all sequences.\n",
    "\n",
    "def overall_max(sequences):\n",
    "    '''Determine overall maximum edit distance.'''\n",
    "\n",
    "    highest = 0\n",
    "    for left in sequences:\n",
    "        for right in sequences:\n",
    "            '''Avoid checking sequence against itself.'''\n",
    "            if left != right:\n",
    "                this = edit_distance(left, right)\n",
    "                highest = max(highest, this)\n",
    "\n",
    "    # Report.\n",
    "    return highest\n",
    "```\n"
   ]
  },
  {
   "cell_type": "markdown",
   "metadata": {},
   "source": [
    "## Document this\n",
    "\n",
    "Use comments to describe and help others understand potentially unintuitive sections or individual lines of code. They are especially useful to whoever may need to understand and edit your code in the future, including yourself.\n",
    "\n",
    "Use docstrings to document the acceptable inputs and expected outputs of a method or class, its purpose, assumptions and intended behavior. Docstrings are displayed when a user invokes the builtin `help` method on your method or class.\n",
    "\n",
    "Turn the comment in the following function into a docstring and check that `help` displays it properly.\n"
   ]
  },
  {
   "cell_type": "code",
   "execution_count": null,
   "metadata": {},
   "outputs": [],
   "source": [
    "def middle(a, b, c):\n",
    "    # Return the middle value of three.\n",
    "    # Assumes the values can actually be compared.\n",
    "    values = [a, b, c]\n",
    "    values.sort()\n",
    "    return values[1]"
   ]
  },
  {
   "cell_type": "markdown",
   "metadata": {},
   "source": [
    "### Solution"
   ]
  },
  {
   "cell_type": "code",
   "execution_count": null,
   "metadata": {},
   "outputs": [],
   "source": [
    "def middle(a, b, c):\n",
    "    \"\"\"Return the middle value of three.\n",
    "    Assumes the values can actually be compared.\"\"\"\n",
    "    values = [a, b, c]\n",
    "    values.sort()\n",
    "    return values[1]"
   ]
  },
  {
   "cell_type": "markdown",
   "metadata": {},
   "source": [
    "## Clean up this code\n",
    "\n",
    "1. Read this short program and try to predict what it does.\n",
    "1. Run it: how accurate was your prediction?\n",
    "1. Refactor the program to make it more readable. Remember to run it after each change to ensure its behavior hasn’t changed.\n",
    "1. Compare your rewrite with your neighbor’s. What did you do the same? What did you do differently, and why?\n"
   ]
  },
  {
   "cell_type": "code",
   "execution_count": null,
   "metadata": {},
   "outputs": [],
   "source": [
    "n = 10\n",
    "s = \"et cetera\"\n",
    "print(s)\n",
    "i = 0\n",
    "while i < n:\n",
    "    # print('at', j)\n",
    "    new = \"\"\n",
    "    for j in range(len(s)):\n",
    "        left = j - 1\n",
    "        right = (j + 1) % len(s)\n",
    "        if s[left] == s[right]:\n",
    "            new = new + \"-\"\n",
    "        else:\n",
    "            new = new + \"*\"\n",
    "    s = \"\".join(new)\n",
    "    print(s)\n",
    "    i += 1"
   ]
  },
  {
   "cell_type": "markdown",
   "metadata": {},
   "source": [
    "Licensed under [CC-BY 4.0](http://swcarpentry.github.io/python-novice-gapminder/18-style/index.html) 2018–2023 by [The Carpentries](https://carpentries.org/)\n",
    "\n",
    "Licensed under [CC-BY 4.0](http://swcarpentry.github.io/python-novice-gapminder/18-style/index.html) 2016–2018 by [Software Carpentry Foundation](https://software-carpentry.org/)\n"
   ]
  }
 ],
 "metadata": {
  "kernelspec": {
   "display_name": ".env",
   "language": "python",
   "name": "python3"
  },
  "language_info": {
   "codemirror_mode": {
    "name": "ipython",
    "version": 3
   },
   "file_extension": ".py",
   "mimetype": "text/x-python",
   "name": "python",
   "nbconvert_exporter": "python",
   "pygments_lexer": "ipython3",
   "version": "3.10.8"
  }
 },
 "nbformat": 4,
 "nbformat_minor": 2
}
