{
 "cells": [
  {
   "cell_type": "markdown",
   "metadata": {},
   "source": [
    "# Conditionals"
   ]
  },
  {
   "cell_type": "markdown",
   "metadata": {},
   "source": [
    "## Tracing execution\n",
    "\n",
    "What does this program print?\n",
    "\n",
    "```{python}\n",
    "pressure = 71.9\n",
    "if pressure > 50.0:\n",
    "    pressure = 25.0\n",
    "elif pressure <= 50.0:\n",
    "    pressure = 0.0\n",
    "print(pressure)\n",
    "```\n"
   ]
  },
  {
   "cell_type": "markdown",
   "metadata": {},
   "source": [
    "### Solution\n",
    "\n",
    "25"
   ]
  },
  {
   "cell_type": "markdown",
   "metadata": {},
   "source": [
    "## Trimming values\n",
    "\n",
    "Fill in the blanks so that this program creates a new list containing zeroes where the original list’s values were negative and ones where the original list’s values were positive.\n",
    "\n",
    "```{python}\n",
    "original = [-1.5, 0.2, 0.4, 0.0, -1.3, 0.4]\n",
    "result = ____\n",
    "for value in original:\n",
    "    if ____:\n",
    "        result.append(0)\n",
    "    else:\n",
    "        ____\n",
    "print(result)\n",
    "```\n",
    "\n",
    "Output:\n",
    "\n",
    "```\n",
    "[0, 1, 1, 1, 0, 1]\n",
    "```\n"
   ]
  },
  {
   "cell_type": "markdown",
   "metadata": {},
   "source": [
    "### Solution"
   ]
  },
  {
   "cell_type": "code",
   "execution_count": null,
   "metadata": {},
   "outputs": [],
   "source": [
    "original = [-1.5, 0.2, 0.4, 0.0, -1.3, 0.4]\n",
    "result = []\n",
    "for value in original:\n",
    "    if value < 0.0:\n",
    "        result.append(0)\n",
    "    else:\n",
    "        result.append(1)\n",
    "print(result)"
   ]
  },
  {
   "cell_type": "markdown",
   "metadata": {},
   "source": [
    "## Processing small files\n",
    "\n",
    "Modify this program so that it only processes files with fewer than 50 records.\n",
    "\n",
    "```{python}\n",
    "import glob\n",
    "import pandas as pd\n",
    "for filename in glob.glob('data/*.csv'):\n",
    "    contents = pd.read_csv(filename)\n",
    "    ____:\n",
    "        print(filename, len(contents))\n",
    "```\n"
   ]
  },
  {
   "cell_type": "markdown",
   "metadata": {},
   "source": [
    "### Solution"
   ]
  },
  {
   "cell_type": "code",
   "execution_count": null,
   "metadata": {},
   "outputs": [],
   "source": [
    "import glob\n",
    "import pandas as pd\n",
    "\n",
    "for filename in glob.glob(\"data/*.csv\"):\n",
    "    contents = pd.read_csv(filename)\n",
    "    if len(contents) < 50:\n",
    "        print(filename, len(contents))"
   ]
  },
  {
   "cell_type": "markdown",
   "metadata": {},
   "source": [
    "## Initializing\n",
    "\n",
    "Modify this program so that it finds the largest and smallest values in the list no matter what the range of values originally is.\n",
    "\n",
    "```{python}\n",
    "values = [...some test data...]\n",
    "smallest, largest = None, None\n",
    "for v in values:\n",
    "    if ____:\n",
    "        smallest, largest = v, v\n",
    "    ____:\n",
    "        smallest = min(____, v)\n",
    "        largest = max(____, v)\n",
    "print(smallest, largest)\n",
    "```\n",
    "\n",
    "What are the advantages and disadvantages of using this method to find the range of the data?\n"
   ]
  },
  {
   "cell_type": "markdown",
   "metadata": {},
   "source": [
    "### Solution"
   ]
  },
  {
   "cell_type": "code",
   "execution_count": null,
   "metadata": {},
   "outputs": [],
   "source": [
    "values = [-2, 1, 65, 78, -54, -24, 100]\n",
    "smallest, largest = None, None\n",
    "for v in values:\n",
    "    if smallest is None and largest is None:\n",
    "        smallest, largest = v, v\n",
    "    else:\n",
    "        smallest = min(smallest, v)\n",
    "        largest = max(largest, v)\n",
    "print(smallest, largest)"
   ]
  },
  {
   "cell_type": "markdown",
   "metadata": {},
   "source": [
    "If you wrote `== None` instead of `is None`, that works too, but Python programmers always write `is None` because of the special way `None` works in the language.\n",
    "\n",
    "It can be argued that an advantage of using this method would be to make the code more readable. However, a disadvantage is that this code is not efficient because within each iteration of the for loop statement, there are two more loops that run over two numbers each (the `min` and `max` functions). It would be more efficient to iterate over each number just once:\n"
   ]
  },
  {
   "cell_type": "code",
   "execution_count": null,
   "metadata": {},
   "outputs": [],
   "source": [
    "values = [-2, 1, 65, 78, -54, -24, 100]\n",
    "smallest, largest = None, None\n",
    "for v in values:\n",
    "    if smallest is None or v < smallest:\n",
    "        smallest = v\n",
    "    if largest is None or v > largest:\n",
    "        largest = v\n",
    "print(smallest, largest)"
   ]
  },
  {
   "cell_type": "markdown",
   "metadata": {},
   "source": [
    "Now we have one loop, but four comparison tests. There are two ways we could improve it further: either use fewer comparisons in each iteration, or use two loops that each contain only one comparison test. The simplest solution is often the best:\n"
   ]
  },
  {
   "cell_type": "code",
   "execution_count": null,
   "metadata": {},
   "outputs": [],
   "source": [
    "values = [-2, 1, 65, 78, -54, -24, 100]\n",
    "smallest = min(values)\n",
    "largest = max(values)\n",
    "print(smallest, largest)"
   ]
  },
  {
   "cell_type": "markdown",
   "metadata": {},
   "source": [
    "Licensed under [CC-BY 4.0](http://swcarpentry.github.io/python-novice-gapminder/04-built-in/index.html) 2018–2023 by [The Carpentries](https://carpentries.org/)\n",
    "\n",
    "Licensed under [CC-BY 4.0](http://swcarpentry.github.io/python-novice-gapminder/04-built-in/index.html) 2016–2018 by [Software Carpentry Foundation](https://software-carpentry.org/)\n"
   ]
  }
 ],
 "metadata": {
  "kernelspec": {
   "display_name": ".env",
   "language": "python",
   "name": "python3"
  },
  "language_info": {
   "codemirror_mode": {
    "name": "ipython",
    "version": 3
   },
   "file_extension": ".py",
   "mimetype": "text/x-python",
   "name": "python",
   "nbconvert_exporter": "python",
   "pygments_lexer": "ipython3",
   "version": "3.10.8"
  }
 },
 "nbformat": 4,
 "nbformat_minor": 2
}
