{
 "cells": [
  {
   "cell_type": "markdown",
   "metadata": {},
   "source": [
    "# A walkthrough of notebook commands"
   ]
  },
  {
   "cell_type": "markdown",
   "metadata": {},
   "source": [
    "## Exercise: Command Vs. Edit\n",
    "\n",
    "In the Jupyter notebook page are you currently in Command or Edit mode?\n",
    "Switch between the modes.\n",
    "Use the shortcuts to generate a new cell.\n",
    "Use the shortcuts to delete a cell.\n",
    "Use the shortcuts to undo the last cell operation you performed.\n"
   ]
  },
  {
   "cell_type": "markdown",
   "metadata": {},
   "source": [
    "### Solution\n",
    "\n",
    "Command mode has a grey border and Edit mode has a blue border.\n",
    "Use <kbd>Esc</kbd> and <kbd>Return</kbd> to switch between modes.\n",
    "You need to be in Command mode (Press <kbd>Esc</kbd> if your cell is blue). Type <kbd>b</kbd> or <kbd>a</kbd>.\n",
    "You need to be in Command mode (Press <kbd>Esc</kbd> if your cell is blue). Type <kbd>x</kbd>.\n",
    "You need to be in Command mode (Press <kbd>Esc</kbd> if your cell is blue). Type <kbd>z</kbd>.\n"
   ]
  },
  {
   "cell_type": "markdown",
   "metadata": {},
   "source": [
    "## Exercise: Creating Lists in Markdown\n",
    "\n",
    "Create a nested list in a Markdown cell in a notebook that looks like this:\n",
    "\n",
    "1. Get funding.\n",
    "2. Do work.\n",
    "   - Design experiment.\n",
    "   - Collect data.\n",
    "   - Analyze.\n",
    "3. Write up.\n",
    "4. Publish.\n"
   ]
  },
  {
   "cell_type": "markdown",
   "metadata": {},
   "source": [
    "### Solution\n",
    "\n",
    "This challenge integrates both the numbered list and bullet list.\n",
    "Note that the bullet list is indented 2 spaces so that it is inline with the items of the numbered list.\n",
    "\n",
    "```\n",
    "1.  Get funding.\n",
    "2.  Do work.\n",
    "    *   Design experiment.\n",
    "    *   Collect data.\n",
    "    *   Analyze.\n",
    "3.  Write up.\n",
    "4.  Publish.\n",
    "```\n"
   ]
  },
  {
   "cell_type": "markdown",
   "metadata": {},
   "source": [
    "## Exercise: More Math\n",
    "\n",
    "What is displayed when a Python cell in a notebook\n",
    "that contains several calculations is executed?\n",
    "For example, what happens when this cell is executed?\n",
    "\n",
    "```python\n",
    "7 * 3\n",
    "2 + 1\n",
    "```\n"
   ]
  },
  {
   "cell_type": "markdown",
   "metadata": {},
   "source": [
    "### Solution\n",
    "\n",
    "Python returns the output of the last calculation.\n",
    "\n",
    "```python\n",
    "3\n",
    "```\n"
   ]
  },
  {
   "cell_type": "markdown",
   "metadata": {},
   "source": [
    "## Exercise: Change an Existing Cell from Code to Markdown\n",
    "\n",
    "What happens if you write some Python in a code cell\n",
    "and then you switch it to a Markdown cell?\n",
    "For example, put the following in a code cell:\n",
    "\n",
    "```python\n",
    "x = 6 * 7 + 12\n",
    "print(x)\n",
    "```\n",
    "\n",
    "And then run it with <kbd>Shift</kbd>\\+<kbd>Return</kbd> to be sure that it works as a code cell.\n",
    "Now go back to the cell and use <kbd>Esc</kbd> then <kbd>m</kbd> to switch the cell to Markdown\n",
    "and \"run\" it with <kbd>Shift</kbd>\\+<kbd>Return</kbd>.\n",
    "What happened and how might this be useful?\n"
   ]
  },
  {
   "cell_type": "markdown",
   "metadata": {},
   "source": [
    "### Solution\n",
    "\n",
    "The Python code gets treated like Markdown text.\n",
    "The lines appear as if they are part of one contiguous paragraph.\n",
    "This could be useful to temporarily turn on and off cells in notebooks that get used for multiple purposes.\n",
    "\n",
    "```python\n",
    "x = 6 * 7 + 12 print(x)\n",
    "```\n"
   ]
  },
  {
   "cell_type": "markdown",
   "metadata": {},
   "source": [
    "## Exercise: Equations\n",
    "\n",
    "Standard Markdown (such as we're using for these notes) won't render equations,\n",
    "but the Notebook will.\n",
    "Create a new Markdown cell and enter the following:\n",
    "\n",
    "```\n",
    "$\\sum_{i=1}^{N} 2^{-i} \\approx 1$\n",
    "```\n",
    "\n",
    "(It's probably easier to copy and paste.)\n",
    "What does it display?\n",
    "What do you think the underscore, `_`, circumflex, `^`, and dollar sign, `$`, do?\n"
   ]
  },
  {
   "cell_type": "markdown",
   "metadata": {},
   "source": [
    "### Solution\n",
    "\n",
    "The notebook shows the equation as it would be rendered from LaTeX equation syntax.\n",
    "The dollar sign, `$`, is used to tell Markdown that the text in between is a LaTeX equation.\n",
    "If you're not familiar with LaTeX, underscore, `_`, is used for subscripts and circumflex, `^`, is used for superscripts.\n",
    "A pair of curly braces, `{` and `}`, is used to group text together so that the statement `i=1` becomes the subscript and `N` becomes the superscript.\n",
    "Similarly, `-i` is in curly braces to make the whole statement the superscript for `2`.\n",
    "`\\sum` and `\\approx` are LaTeX commands for \"sum over\" and \"approximate\" symbols.\n"
   ]
  },
  {
   "cell_type": "markdown",
   "metadata": {},
   "source": [
    "Licensed under [CC-BY 4.0](http://swcarpentry.github.io/python-novice-gapminder/04-built-in/index.html) 2018–2023 by [The Carpentries](https://carpentries.org/)\n",
    "\n",
    "Licensed under [CC-BY 4.0](http://swcarpentry.github.io/python-novice-gapminder/04-built-in/index.html) 2016–2018 by [Software Carpentry Foundation](https://software-carpentry.org/)\n"
   ]
  }
 ],
 "metadata": {
  "language_info": {
   "name": "python"
  }
 },
 "nbformat": 4,
 "nbformat_minor": 2
}
