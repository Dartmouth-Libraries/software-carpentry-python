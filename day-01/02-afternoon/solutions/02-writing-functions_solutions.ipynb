{
 "cells": [
  {
   "cell_type": "markdown",
   "metadata": {},
   "source": [
    "# Writing Functions: Exercises"
   ]
  },
  {
   "cell_type": "markdown",
   "metadata": {},
   "source": [
    "## _Identifying Syntax Errors_\n",
    "\n",
    "1. Read the code below and try to identify what the errors are\n",
    "  *without* running it.\n",
    "2. Run the code and read the error message.\n",
    "  Is it a `SyntaxError` or an `IndentationError`?\n",
    "3. Fix the error.\n",
    "4. Repeat steps 2 and 3 until you have fixed all the errors."
   ]
  },
  {
   "cell_type": "code",
   "execution_count": null,
   "metadata": {},
   "outputs": [],
   "source": [
    "def another_function\n",
    "  print(\"Syntax errors are annoying.\")\n",
    "   print(\"But at least python tells us about them!\")\n",
    "  print(\"So they are usually not too hard to fix.\")"
   ]
  },
  {
   "cell_type": "markdown",
   "metadata": {},
   "source": [
    "Solution:"
   ]
  },
  {
   "cell_type": "code",
   "execution_count": null,
   "metadata": {},
   "outputs": [],
   "source": [
    "def another_function():\n",
    "  print(\"Syntax errors are annoying.\")\n",
    "  print(\"But at least Python tells us about them!\")\n",
    "  print(\"So they are usually not too hard to fix.\")"
   ]
  },
  {
   "cell_type": "markdown",
   "metadata": {},
   "source": [
    "## _Definition and Use_\n",
    "\n",
    "What does the following program print?"
   ]
  },
  {
   "cell_type": "code",
   "execution_count": null,
   "metadata": {},
   "outputs": [],
   "source": [
    "def report(pressure):\n",
    "    print('pressure is', pressure)\n",
    "\n",
    "print('calling', report, 22.5)"
   ]
  },
  {
   "cell_type": "markdown",
   "metadata": {},
   "source": [
    "**Solution**\n",
    "\n",
    "A function call always needs parenthesis, otherwise you get memory address of the function object. So, if we wanted to call the function named report, and give it the value 22.5 to report on, we could have our function call as follows"
   ]
  },
  {
   "cell_type": "code",
   "execution_count": null,
   "metadata": {},
   "outputs": [],
   "source": [
    "print(\"calling\")\n",
    "report(22.5)"
   ]
  },
  {
   "cell_type": "markdown",
   "metadata": {},
   "source": [
    "## _Order of Operations_\n",
    "\n",
    "1. What's wrong in this example?"
   ]
  },
  {
   "cell_type": "code",
   "execution_count": null,
   "metadata": {},
   "outputs": [],
   "source": [
    "result = print_time(11, 37, 59)\n",
    "\n",
    "def print_time(hour, minute, second):\n",
    "   time_string = str(hour) + ':' + str(minute) + ':' + str(second)\n",
    "   print(time_string)"
   ]
  },
  {
   "cell_type": "markdown",
   "metadata": {},
   "source": [
    "2. After fixing the problem above, explain why running this example code:\n",
    "  \n",
    "  ```\n",
    "  result = print_time(11, 37, 59)\n",
    "  print('result of call is:', result)\n",
    "  ```\n",
    "  \n",
    "  gives this output:\n",
    "  \n",
    "  ```\n",
    "  11:37:59\n",
    "  result of call is: None\n",
    "  ```"
   ]
  },
  {
   "cell_type": "markdown",
   "metadata": {},
   "source": [
    "**Solution**\n",
    "\n",
    "1. The problem with the example is that the function `print_time()` is defined after the call to the function is made. Python doesn’t know how to resolve the name `print_time` since it hasn’t been defined yet and will raise a NameError e.g., `NameError: name 'print_time' is not defined`\n",
    "\n",
    "2. The first line of output `11:37:59` is printed by the first line of code, `result = print_time(11, 37, 59)` that binds the value returned by invoking `print_time` to the variable `result`. The second line is from the second print call to print the contents of the `result` variable.\n",
    "\n",
    "3. `print_time()` does not explicitly return a value, so it automatically returns `None`.\n",
    "\n",
    "\n",
    "    "
   ]
  },
  {
   "cell_type": "markdown",
   "metadata": {},
   "source": [
    "## _Find the First_\n",
    "\n",
    "Fill in the blanks to create a function that takes a list of numbers as an argument\n",
    "and returns the first negative value in the list.\n",
    "What does your function do if the list is empty? What if the list has no negative numbers?"
   ]
  },
  {
   "cell_type": "code",
   "execution_count": null,
   "metadata": {},
   "outputs": [],
   "source": [
    "def first_negative(values):\n",
    "    for v in ____:\n",
    "        if ____:\n",
    "            return ____"
   ]
  },
  {
   "cell_type": "markdown",
   "metadata": {},
   "source": [
    "**Solution**"
   ]
  },
  {
   "cell_type": "code",
   "execution_count": null,
   "metadata": {},
   "outputs": [],
   "source": [
    "def first_negative(values):\n",
    "    for v in values:\n",
    "        if v < 0:\n",
    "            return v"
   ]
  },
  {
   "cell_type": "markdown",
   "metadata": {},
   "source": [
    "If an empty list or a list with all positive values is passed to this function, it returns `None`:"
   ]
  },
  {
   "cell_type": "code",
   "execution_count": null,
   "metadata": {},
   "outputs": [],
   "source": [
    "my_list = []\n",
    "print(first_negative(my_list))"
   ]
  },
  {
   "cell_type": "markdown",
   "metadata": {},
   "source": [
    "## Calling by Name\n",
    "\n",
    "Earlier we saw this function:"
   ]
  },
  {
   "cell_type": "code",
   "execution_count": null,
   "metadata": {},
   "outputs": [],
   "source": [
    "def print_date(year, month, day):\n",
    "    joined = str(year) + '/' + str(month) + '/' + str(day)\n",
    "    print(joined)"
   ]
  },
  {
   "cell_type": "markdown",
   "metadata": {},
   "source": [
    "We saw that we can call the function using *named arguments*, like this:"
   ]
  },
  {
   "cell_type": "code",
   "execution_count": null,
   "metadata": {},
   "outputs": [],
   "source": [
    "print_date(day=1, month=2, year=2003)"
   ]
  },
  {
   "cell_type": "markdown",
   "metadata": {},
   "source": [
    "1. What does `print_date(day=1, month=2, year=2003)` print?\n",
    "2. When have you seen a function call like this before?\n",
    "3. When and why is it useful to call functions this way?"
   ]
  },
  {
   "cell_type": "markdown",
   "metadata": {},
   "source": [
    "**Solution**\n",
    "\n",
    "\n",
    "\n",
    "1. `2003/2/1`\n",
    "\n",
    "2. We saw examples of using named arguments when working with the pandas library. For example, when reading in a dataset using `data = pd.read_csv('data/gapminder_gdp_europe.csv', index_col='country')`, the last argument `index_col` is a named argument.\n",
    "\n",
    "3. Using named arguments can make code more readable since one can see from the function call what name the different arguments have inside the function. It can also reduce the chances of passing arguments in the wrong order, since by using named arguments the order doesn’t matter.\n",
    "\n"
   ]
  },
  {
   "cell_type": "markdown",
   "metadata": {},
   "source": [
    "## Encapsulation of an If/Print Block\n",
    "\n",
    "The code below will run on a label-printer for chicken eggs.  A digital scale will report a chicken egg mass (in grams)\n",
    "to the computer and then the computer will print a label."
   ]
  },
  {
   "cell_type": "code",
   "execution_count": null,
   "metadata": {},
   "outputs": [],
   "source": [
    "import random\n",
    "for i in range(10):\n",
    "\n",
    "    # simulating the mass of a chicken egg\n",
    "    # the (random) mass will be 70 +/- 20 grams\n",
    "    mass = 70 + 20.0 * (2.0 * random.random() - 1.0)\n",
    "\n",
    "    print(mass)\n",
    "\n",
    "    # egg sizing machinery prints a label\n",
    "    if mass >= 85:\n",
    "        print(\"jumbo\")\n",
    "    elif mass >= 70:\n",
    "        print(\"large\")\n",
    "    elif mass < 70 and mass >= 55:\n",
    "        print(\"medium\")\n",
    "    else:\n",
    "        print(\"small\")"
   ]
  },
  {
   "cell_type": "markdown",
   "metadata": {},
   "source": [
    "The if-block that classifies the eggs might be useful in other situations,\n",
    "so to avoid repeating it, we could fold it into a function, `get_egg_label()`.\n",
    "Revising the program to use the function would give us this:"
   ]
  },
  {
   "cell_type": "code",
   "execution_count": null,
   "metadata": {},
   "outputs": [],
   "source": [
    "# revised version\n",
    "import random\n",
    "for i in range(10):\n",
    "\n",
    "    # simulating the mass of a chicken egg\n",
    "    # the (random) mass will be 70 +/- 20 grams\n",
    "    mass = 70 + 20.0 * (2.0 * random.random() - 1.0)\n",
    "\n",
    "    print(mass, get_egg_label(mass))"
   ]
  },
  {
   "cell_type": "markdown",
   "metadata": {},
   "source": [
    "1. Create a function definition for `get_egg_label()` that will work with the revised program above.  Note that the `get_egg_label()` function's return value will be important. Sample output from the above program would be `71.23 large`.\n",
    "2. A dirty egg might have a mass of more than 90 grams, and a spoiled or broken egg will probably have a mass that's less than 50 grams.  Modify your `get_egg_label()` function to account for these error conditions. Sample output could be `25 too light, probably spoiled`."
   ]
  },
  {
   "cell_type": "code",
   "execution_count": null,
   "metadata": {},
   "outputs": [],
   "source": [
    "def get_egg_label(mass):\n",
    "    # egg sizing machinery prints a label\n",
    "    egg_label = \"Unlabelled\"\n",
    "    if mass >= 90:\n",
    "        egg_label = \"warning: egg might be dirty\"\n",
    "    elif mass >= 85:\n",
    "        egg_label = \"jumbo\"\n",
    "    elif mass >= 70:\n",
    "        egg_label = \"large\"\n",
    "    elif mass < 70 and mass >= 55:\n",
    "        egg_label = \"medium\"\n",
    "    elif mass < 50:\n",
    "        egg_label = \"too light, probably spoiled\"\n",
    "    else:\n",
    "        egg_label = \"small\"\n",
    "    return egg_label"
   ]
  },
  {
   "cell_type": "code",
   "execution_count": null,
   "metadata": {},
   "outputs": [],
   "source": []
  },
  {
   "cell_type": "code",
   "execution_count": null,
   "metadata": {},
   "outputs": [],
   "source": []
  },
  {
   "cell_type": "markdown",
   "metadata": {},
   "source": [
    "*Due to change in order of episodes, the following exercises have been excluded:*\n",
    "\n",
    "+ Encapsulation\n",
    "+ Encapsulating Data Analysis\n",
    "\n",
    "*Also excluding \"Simulating a Dynamic System\" so as not to frighten away any participants.*"
   ]
  }
 ],
 "metadata": {
  "kernelspec": {
   "display_name": ".venv",
   "language": "python",
   "name": "python3"
  },
  "language_info": {
   "codemirror_mode": {
    "name": "ipython",
    "version": 3
   },
   "file_extension": ".py",
   "mimetype": "text/x-python",
   "name": "python",
   "nbconvert_exporter": "python",
   "pygments_lexer": "ipython3",
   "version": "3.11.4"
  }
 },
 "nbformat": 4,
 "nbformat_minor": 2
}
