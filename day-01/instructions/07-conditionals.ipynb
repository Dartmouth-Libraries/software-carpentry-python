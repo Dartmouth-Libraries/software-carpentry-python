{
 "cells": [
  {
   "cell_type": "markdown",
   "metadata": {},
   "source": [
    "# Conditionals\n",
    "\n",
    "## Questions\n",
    "\n",
    "- How can programs do different things for different data?\n",
    "\n",
    "## Objectives\n",
    "\n",
    "- Correctly write programs that use if and else statements and simple Boolean expressions (without logical operators).\n",
    "- Trace the execution of unnested conditionals and conditionals inside loops.\n"
   ]
  },
  {
   "cell_type": "markdown",
   "metadata": {},
   "source": [
    "## Use if statements to control whether or not a block of code is executed.\n",
    "\n",
    "- An `if` statement (more properly called a conditional statement) controls whether some block of code is executed or not.\n",
    "- Structure is similar to a `for` statement:\n",
    "  - First line opens with `if` and ends with a colon\n",
    "  - Body containing one or more statements is indented (usually by 4 spaces)\n"
   ]
  },
  {
   "cell_type": "code",
   "execution_count": null,
   "metadata": {},
   "outputs": [],
   "source": [
    "mass = 3.54\n",
    "if mass > 3.0:\n",
    "    print(mass, \"is large\")\n",
    "\n",
    "mass = 2.07\n",
    "if mass > 3.0:\n",
    "    print(mass, \"is large\")"
   ]
  },
  {
   "cell_type": "markdown",
   "metadata": {},
   "source": [
    "## Conditionals are often used inside loops.\n",
    "\n",
    "- Not much point using a conditional when we know the value (as above).\n",
    "- But useful when we have a collection to process.\n"
   ]
  },
  {
   "cell_type": "code",
   "execution_count": null,
   "metadata": {},
   "outputs": [],
   "source": [
    "masses = [3.54, 2.07, 9.22, 1.86, 1.71]\n",
    "for m in masses:\n",
    "    if m > 3.0:\n",
    "        print(m, \"is large\")"
   ]
  },
  {
   "cell_type": "markdown",
   "metadata": {},
   "source": [
    "## Use else to execute a block of code when an if condition is not true.\n",
    "\n",
    "- `else` can be used following an `if`.\n",
    "- Allows us to specify an alternative to execute when the `if` branch isn’t taken.\n"
   ]
  },
  {
   "cell_type": "code",
   "execution_count": null,
   "metadata": {},
   "outputs": [],
   "source": [
    "masses = [3.54, 2.07, 9.22, 1.86, 1.71]\n",
    "for m in masses:\n",
    "    if m > 3.0:\n",
    "        print(m, \"is large\")\n",
    "    else:\n",
    "        print(m, \"is small\")"
   ]
  },
  {
   "cell_type": "markdown",
   "metadata": {},
   "source": [
    "## Use elif to specify additional tests.\n",
    "\n",
    "- May want to provide several alternative choices, each with its own test.\n",
    "- Use `elif` (short for “else if”) and a condition to specify these.\n",
    "- Always associated with an `if`.\n",
    "- Must come before the `else` (which is the “catch all”).\n"
   ]
  },
  {
   "cell_type": "code",
   "execution_count": null,
   "metadata": {},
   "outputs": [],
   "source": [
    "masses = [3.54, 2.07, 9.22, 1.86, 1.71]\n",
    "for m in masses:\n",
    "    if m > 9.0:\n",
    "        print(m, \"is HUGE\")\n",
    "    elif m > 3.0:\n",
    "        print(m, \"is large\")\n",
    "    else:\n",
    "        print(m, \"is small\")"
   ]
  },
  {
   "cell_type": "markdown",
   "metadata": {},
   "source": [
    "## Conditions are tested once, in order.\n",
    "\n",
    "- Python steps through the branches of the conditional in order, testing each in turn.\n",
    "- So ordering matters.\n"
   ]
  },
  {
   "cell_type": "code",
   "execution_count": null,
   "metadata": {},
   "outputs": [],
   "source": [
    "grade = 85\n",
    "if grade >= 90:\n",
    "    print(\"grade is A\")\n",
    "elif grade >= 80:\n",
    "    print(\"grade is B\")\n",
    "elif grade >= 70:\n",
    "    print(\"grade is C\")"
   ]
  },
  {
   "cell_type": "markdown",
   "metadata": {},
   "source": [
    "- Does _not_ automatically go back and re-evaluate if values change.\n"
   ]
  },
  {
   "cell_type": "code",
   "execution_count": null,
   "metadata": {},
   "outputs": [],
   "source": [
    "velocity = 10.0\n",
    "if velocity > 20.0:\n",
    "    print(\"moving too fast\")\n",
    "else:\n",
    "    print(\"adjusting velocity\")\n",
    "    velocity = 50.0"
   ]
  },
  {
   "cell_type": "markdown",
   "metadata": {},
   "source": [
    "- Often use conditionals in a loop to “evolve” the values of variables.\n"
   ]
  },
  {
   "cell_type": "code",
   "execution_count": null,
   "metadata": {},
   "outputs": [],
   "source": [
    "velocity = 10.0\n",
    "for i in range(5):  # execute the loop 5 times\n",
    "    print(i, \":\", velocity)\n",
    "    if velocity > 20.0:\n",
    "        print(\"moving too fast\")\n",
    "        velocity = velocity - 5.0\n",
    "    else:\n",
    "        print(\"moving too slow\")\n",
    "        velocity = velocity + 10.0\n",
    "print(\"final velocity:\", velocity)"
   ]
  },
  {
   "cell_type": "markdown",
   "metadata": {},
   "source": [
    "## Create a table showing variables’ values to trace a program’s execution.\n",
    "\n",
    "| i        | 0    | .    | 1   | .    | 2   | .    | 3   | .    | 4      | .   |\n",
    "| -------- | ---- | ---- | --- | ---- | --- | ---- | --- | ---- | ------ | --- |\n",
    "| velocity | 10.0 | 20.0 | .   | 30.0 | .   | 25.0 | .   | 20.0 | . 30.0 |\n",
    "\n",
    "- The program must have a print statement _outside_ the body of the loop to show the final value of `velocity`, since its value is updated by the last iteration of the loop.\n"
   ]
  },
  {
   "cell_type": "markdown",
   "metadata": {},
   "source": [
    "## Compound relations using `and`, `or`, and parentheses\n",
    "\n",
    "- Often, you want some combination of things to be true. you can combine relations within a conditional using and and or. continuing the example above, suppose you have the following:\n"
   ]
  },
  {
   "cell_type": "code",
   "execution_count": null,
   "metadata": {},
   "outputs": [],
   "source": [
    "mass = [3.54, 2.07, 9.22, 1.86, 1.71]\n",
    "velocity = [10.00, 20.00, 30.00, 25.00, 20.00]\n",
    "\n",
    "i = 0\n",
    "for i in range(5):\n",
    "    if mass[i] > 5 and velocity[i] > 20:\n",
    "        print(\"Fast heavy object.  Duck!\")\n",
    "    elif mass[i] > 2 and mass[i] <= 5 and velocity[i] <= 20:\n",
    "        print(\"Normal traffic\")\n",
    "    elif mass[i] <= 2 and velocity[i] <= 20:\n",
    "        print(\"Slow light object.  Ignore it\")\n",
    "    else:\n",
    "        print(\"Whoa!  Something is up with the data.  Check it\")"
   ]
  },
  {
   "cell_type": "markdown",
   "metadata": {},
   "source": [
    "Just like with arithmetic, you can and should use parentheses whenever there is possible ambiguity. A good general rule is to always use parentheses when mixing and and or in the same condition. that is, instead of:\n",
    "\n",
    "```{python}\n",
    "if mass[i] <= 2 or mass[i] >= 5 and velocity[i] > 20:\n",
    "```\n",
    "\n",
    "```{python}\n",
    "if (mass[i] <= 2 or mass[i] >= 5) and velocity[i] > 20:\n",
    "if mass[i] <= 2 or (mass[i] >= 5 and velocity[i] > 20):\n",
    "```\n",
    "\n",
    "So it is perfectly clear to a reader (and to python) what you really mean.\n"
   ]
  },
  {
   "cell_type": "markdown",
   "metadata": {},
   "source": [
    "## Key points\n",
    "\n",
    "- Use `if` statements to control whether or not a block of code is executed.\n",
    "- Conditionals are often used inside loops.\n",
    "- Use `else` to execute a block of code when an `if` condition is not true.\n",
    "- Use `elif` to specify additional tests.\n",
    "- Conditions are tested once, in order.\n",
    "- Create a table showing variables’ values to trace a program’s execution.\n"
   ]
  },
  {
   "cell_type": "markdown",
   "metadata": {},
   "source": [
    "Licensed under [CC-BY 4.0](http://swcarpentry.github.io/python-novice-gapminder/04-built-in/index.html) 2018–2023 by [The Carpentries](https://carpentries.org/)\n",
    "\n",
    "Licensed under [CC-BY 4.0](http://swcarpentry.github.io/python-novice-gapminder/04-built-in/index.html) 2016–2018 by [Software Carpentry Foundation](https://software-carpentry.org/)\n"
   ]
  }
 ],
 "metadata": {
  "kernelspec": {
   "display_name": ".env",
   "language": "python",
   "name": "python3"
  },
  "language_info": {
   "codemirror_mode": {
    "name": "ipython",
    "version": 3
   },
   "file_extension": ".py",
   "mimetype": "text/x-python",
   "name": "python",
   "nbconvert_exporter": "python",
   "pygments_lexer": "ipython3",
   "version": "3.10.8"
  }
 },
 "nbformat": 4,
 "nbformat_minor": 2
}
