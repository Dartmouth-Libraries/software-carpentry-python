{
 "cells": [
  {
   "cell_type": "markdown",
   "metadata": {},
   "source": [
    "# For loops\n",
    "\n",
    "## Questions\n",
    "\n",
    "- How can I make a program do many things?\n",
    "\n",
    "## Objectives\n",
    "\n",
    "- Explain what for loops are normally used for.\n",
    "- Trace the execution of a simple (unnested) loop and correctly state the values of variables in each iteration.\n",
    "- Write for loops that use the Accumulator pattern to aggregate values.\n"
   ]
  },
  {
   "cell_type": "markdown",
   "metadata": {},
   "source": [
    "## A _for loop_ executes commands once for each value in a collection.\n",
    "\n",
    "- Doing calculations on the values in a list one by one is as painful as working with `pressure_001`, `pressure_002`, etc.\n",
    "- A _for loop_ tells Python to execute some statements once for each value in a list, a character string, or some other collection.\n",
    "- “for each thing in this group, do these operations”\n",
    "\n",
    "```{python}\n",
    "for number in [2, 3, 5]:\n",
    "    print(number)\n",
    "```\n",
    "\n",
    "This for loop is equivalent to:\n",
    "\n",
    "```{python}\n",
    "print(2)\n",
    "print(3)\n",
    "print(5)\n",
    "```\n",
    "\n",
    "And the for loop’s output is:\n",
    "\n",
    "```\n",
    "2\n",
    "3\n",
    "5\n",
    "```\n"
   ]
  },
  {
   "cell_type": "markdown",
   "metadata": {},
   "source": [
    "## A `for` loop is made up of a collection, a loop variable, and a body.\n",
    "\n",
    "```{python}\n",
    "for number in [2, 3, 5]:\n",
    "    print(number)\n",
    "```\n",
    "\n",
    "- The collection, `[2, 3, 5]`, is what the loop is being run on, or the loop _iterates_.\n",
    "- The body, `print(number)`, specifies what to do for each value in the collection.\n",
    "- The loop variable, `number`, is what changes for each iteration of the loop.\n",
    "  - The “current thing”.\n"
   ]
  },
  {
   "cell_type": "markdown",
   "metadata": {},
   "source": [
    "## The first line of the for loop must end with a colon, and the body must be indented.\n",
    "\n",
    "- The colon at the end of the first line signals the start of a block of statements.\n",
    "- Python uses indentation rather than `{}` or `begin/end` to show nesting.\n",
    "  Any consistent indentation is legal, but almost everyone uses four spaces.\n"
   ]
  },
  {
   "cell_type": "code",
   "execution_count": null,
   "metadata": {},
   "outputs": [],
   "source": [
    "for number in [2, 3, 5]:\n",
    "print(number)"
   ]
  },
  {
   "cell_type": "markdown",
   "metadata": {},
   "source": [
    "- Indentation is always meaningful in Python.\n"
   ]
  },
  {
   "cell_type": "code",
   "execution_count": null,
   "metadata": {},
   "outputs": [],
   "source": [
    "firstName = \"Jon\"\n",
    "  lastName = \"Smith\""
   ]
  },
  {
   "cell_type": "markdown",
   "metadata": {},
   "source": [
    "- This error can be fixed by removing the extra spaces at the beginning of the second line.\n"
   ]
  },
  {
   "cell_type": "markdown",
   "metadata": {},
   "source": [
    "## Loop variables can be called anything.\n",
    "\n",
    "- As with all variables, loop variables are:\n",
    "  - Created on demand.\n",
    "  - Meaningless: their names can be anything at all.\n"
   ]
  },
  {
   "cell_type": "code",
   "execution_count": null,
   "metadata": {},
   "outputs": [],
   "source": [
    "for kitten in [2, 3, 5]:\n",
    "    print(kitten)"
   ]
  },
  {
   "cell_type": "markdown",
   "metadata": {},
   "source": [
    "## The body of a loop can contain many statements.\n",
    "\n",
    "- But no loop should be more than a few lines long.\n",
    "- Hard for human beings to keep larger chunks of code in mind.\n"
   ]
  },
  {
   "cell_type": "code",
   "execution_count": null,
   "metadata": {},
   "outputs": [],
   "source": [
    "primes = [2, 3, 5]\n",
    "for p in primes:\n",
    "    squared = p**2\n",
    "    cubed = p**3\n",
    "    print(p, squared, cubed)"
   ]
  },
  {
   "cell_type": "markdown",
   "metadata": {},
   "source": [
    "## Use `range` to iterate over a sequence of numbers.\n",
    "\n",
    "- The built-in function `range` produces a sequence of numbers.\n",
    "  - Not a `list`: the numbers are produced on demand to make looping over large ranges more efficient.\n",
    "- `range(N)` is the numbers 0..N-1\n",
    "  - Exactly the legal indices of a list or character string of length N\n"
   ]
  },
  {
   "cell_type": "code",
   "execution_count": null,
   "metadata": {},
   "outputs": [],
   "source": [
    "print(\"a range is not a list: range(0, 3)\")\n",
    "for number in range(0, 3):\n",
    "    print(number)"
   ]
  },
  {
   "cell_type": "markdown",
   "metadata": {},
   "source": [
    "## The Accumulator pattern turns many values into one.\n",
    "\n",
    "- A common pattern in programs is to:\n",
    "  1. Initialize an accumulator variable to zero, the empty string, or the empty list.\n",
    "  2. Update the variable with values from a collection.\n"
   ]
  },
  {
   "cell_type": "code",
   "execution_count": null,
   "metadata": {},
   "outputs": [],
   "source": [
    "# Sum the first 10 integers.\n",
    "total = 0\n",
    "for number in range(10):\n",
    "    total = total + (number + 1)\n",
    "print(total)"
   ]
  },
  {
   "cell_type": "markdown",
   "metadata": {},
   "source": [
    "- Read `total = total + (number + 1)` as:\n",
    "  - Add `1` to the current value of the loop variable number.\n",
    "  - Add that to the current value of the accumulator variable total.\n",
    "  - Assign that to total, replacing the current value.\n",
    "- We have to add `number + 1` because range produces 0..9, not 1..10.\n"
   ]
  },
  {
   "cell_type": "markdown",
   "metadata": {},
   "source": [
    "## Key Points\n",
    "\n",
    "- A `for` loop executes commands once for each value in a collection.\n",
    "- A `for` loop is made up of a collection, a loop variable, and a body.\n",
    "- The first line of the for loop must end with a colon, and the body must be indented.\n",
    "- Indentation is always meaningful in Python.\n",
    "- Loop variables can be called anything (but it is strongly advised to have a meaningful name to the looping variable).\n",
    "- The body of a loop can contain many statements.\n",
    "- Use range to iterate over a sequence of numbers.\n",
    "- The Accumulator pattern turns many values into one.\n"
   ]
  },
  {
   "cell_type": "markdown",
   "metadata": {},
   "source": [
    "Licensed under [CC-BY 4.0](http://swcarpentry.github.io/python-novice-gapminder/04-built-in/index.html) 2018–2023 by [The Carpentries](https://carpentries.org/)\n",
    "\n",
    "Licensed under [CC-BY 4.0](http://swcarpentry.github.io/python-novice-gapminder/04-built-in/index.html) 2016–2018 by [Software Carpentry Foundation](https://software-carpentry.org/)\n"
   ]
  }
 ],
 "metadata": {
  "kernelspec": {
   "display_name": ".env",
   "language": "python",
   "name": "python3"
  },
  "language_info": {
   "codemirror_mode": {
    "name": "ipython",
    "version": 3
   },
   "file_extension": ".py",
   "mimetype": "text/x-python",
   "name": "python",
   "nbconvert_exporter": "python",
   "pygments_lexer": "ipython3",
   "version": "3.10.8"
  }
 },
 "nbformat": 4,
 "nbformat_minor": 2
}
