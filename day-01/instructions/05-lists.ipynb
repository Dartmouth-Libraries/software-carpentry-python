{
 "cells": [
  {
   "cell_type": "markdown",
   "metadata": {},
   "source": [
    "# Lists\n",
    "\n",
    "## Questions\n",
    "\n",
    "- How can I store multiple values?\n",
    "\n",
    "## Objectives\n",
    "\n",
    "- Explain why programs need collections of values.\n",
    "- Write programs that create flat lists, index them, slice them, and modify them through assignment and method calls.\n"
   ]
  },
  {
   "cell_type": "markdown",
   "metadata": {},
   "source": [
    "## A list stores many values in a single structure.\n",
    "\n",
    "- Doing calculations with a hundred variables called `pressure_001`, `pressure_002`, etc., would be at least as slow as doing them by hand.\n",
    "- Use a `list` to store many values together.\n",
    "- Contained within square brackets `[...]`.\n",
    "- Values separated by commas `,`.\n",
    "- Use `len` to find out how many values are in a list.\n"
   ]
  },
  {
   "cell_type": "code",
   "execution_count": null,
   "metadata": {},
   "outputs": [],
   "source": [
    "pressures = [0.273, 0.275, 0.277, 0.275, 0.276]\n",
    "print(\"pressures:\", pressures)\n",
    "print(\"length:\", len(pressures))"
   ]
  },
  {
   "cell_type": "markdown",
   "metadata": {},
   "source": [
    "## Use an item’s index to fetch it from a list.\n",
    "\n",
    "- Just like strings.\n"
   ]
  },
  {
   "cell_type": "code",
   "execution_count": null,
   "metadata": {},
   "outputs": [],
   "source": [
    "print(\"zeroth item of pressures:\", pressures[0])\n",
    "print(\"fourth item of pressures:\", pressures[4])"
   ]
  },
  {
   "cell_type": "markdown",
   "metadata": {},
   "source": [
    "## Lists’ values can be replaced by assigning to them\n",
    "\n",
    "- Use an index expression on the left of assignment to replace a value.\n"
   ]
  },
  {
   "cell_type": "code",
   "execution_count": null,
   "metadata": {},
   "outputs": [],
   "source": [
    "pressures[0] = 0.265\n",
    "print(\"pressures is now:\", pressures)"
   ]
  },
  {
   "cell_type": "markdown",
   "metadata": {},
   "source": [
    "## Appending items to a list lengthens it.\n",
    "\n",
    "- Use `list_name.append` to add items to the end of a list.\n"
   ]
  },
  {
   "cell_type": "code",
   "execution_count": null,
   "metadata": {},
   "outputs": [],
   "source": [
    "primes = [2, 3, 5]\n",
    "print(\"primes is initially:\", primes)\n",
    "primes.append(7)\n",
    "print(\"primes has become:\", primes)"
   ]
  },
  {
   "cell_type": "markdown",
   "metadata": {},
   "source": [
    "- `append` is a _method_ of lists.\n",
    "  - Like a function, but tied to a particular object.\n",
    "- Use `object_name.method_name` to call methods.\n",
    "  - Deliberately resembles the way we refer to things in a library.\n",
    "- We will meet other methods of lists as we go along.\n",
    "- Use `help(list)` for a preview.\n",
    "- `extend` is similar to `append`, but it allows you to combine two lists. For example:\n"
   ]
  },
  {
   "cell_type": "code",
   "execution_count": null,
   "metadata": {},
   "outputs": [],
   "source": [
    "teen_primes = [11, 13, 17, 19]\n",
    "middle_aged_primes = [37, 41, 43, 47]\n",
    "print(\"primes is currently:\", primes)\n",
    "primes.extend(teen_primes)\n",
    "print(\"primes has now become:\", primes)\n",
    "primes.append(middle_aged_primes)\n",
    "print(\"primes has finally become:\", primes)"
   ]
  },
  {
   "cell_type": "markdown",
   "metadata": {},
   "source": [
    "Note that while `extend` maintains the “flat” structure of the list, appending a list to a list means the last element in `primes` will itself be a `list`, not an integer. Lists can contain values of any type; therefore, lists of lists are possible.\n"
   ]
  },
  {
   "cell_type": "markdown",
   "metadata": {},
   "source": [
    "## Use `del` to remove items from a list entirely.\n",
    "\n",
    "- We use `del list_name[index]` to remove an element from a list (in the example, `9` is not a prime number) and thus shorten it.\n",
    "- `del` is not a function or a method, but a statement in the language.\n"
   ]
  },
  {
   "cell_type": "code",
   "execution_count": null,
   "metadata": {},
   "outputs": [],
   "source": [
    "primes = [2, 3, 5, 7, 9]\n",
    "print(\"primes before removing last item:\", primes)\n",
    "del primes[4]\n",
    "print(\"primes after removing last item:\", primes)"
   ]
  },
  {
   "cell_type": "markdown",
   "metadata": {},
   "source": [
    "## The empty list contains no values.\n",
    "\n",
    "- Use `[]` on its own to represent a list that doesn’t contain any values.\n",
    "- “The zero of lists.”\n",
    "- Helpful as a starting point for collecting values (which we will see in a later episode).\n"
   ]
  },
  {
   "cell_type": "code",
   "execution_count": null,
   "metadata": {},
   "outputs": [],
   "source": [
    "goals = [1, \"Create lists.\", 2, \"Extract items from lists.\", 3, \"Modify lists.\"]"
   ]
  },
  {
   "cell_type": "markdown",
   "metadata": {},
   "source": [
    "## Indexing beyond the end of the collection is an error.\n",
    "\n",
    "- Python reports an `IndexError` if we attempt to access a value that doesn’t exist.\n",
    "  - This is a kind of runtime error (see later).\n",
    "  - Cannot be detected as the code is parsed because the index might be calculated based on data.\n"
   ]
  },
  {
   "cell_type": "code",
   "execution_count": null,
   "metadata": {},
   "outputs": [],
   "source": [
    "print(\"99th element of goals is:\", goals[99])"
   ]
  },
  {
   "cell_type": "markdown",
   "metadata": {},
   "source": [
    "## Key Points\n",
    "\n",
    "- A list stores many values in a single structure.\n",
    "- Use an item’s index to fetch it from a list.\n",
    "- Lists’ values can be replaced by assigning to them.\n",
    "- Appending items to a list lengthens it.\n",
    "- Use del to remove items from a list entirely.\n",
    "- The empty list contains no values.\n",
    "- Lists may contain values of different types.\n",
    "- Character strings can be indexed like lists.\n",
    "- Character strings are immutable.\n",
    "- Indexing beyond the end of the collection is an error.\n"
   ]
  },
  {
   "cell_type": "markdown",
   "metadata": {},
   "source": [
    "Licensed under [CC-BY 4.0](http://swcarpentry.github.io/python-novice-gapminder/04-built-in/index.html) 2018–2023 by [The Carpentries](https://carpentries.org/)\n",
    "\n",
    "Licensed under [CC-BY 4.0](http://swcarpentry.github.io/python-novice-gapminder/04-built-in/index.html) 2016–2018 by [Software Carpentry Foundation](https://software-carpentry.org/)\n"
   ]
  }
 ],
 "metadata": {
  "kernelspec": {
   "display_name": ".env",
   "language": "python",
   "name": "python3"
  },
  "language_info": {
   "codemirror_mode": {
    "name": "ipython",
    "version": 3
   },
   "file_extension": ".py",
   "mimetype": "text/x-python",
   "name": "python",
   "nbconvert_exporter": "python",
   "pygments_lexer": "ipython3",
   "version": "3.10.8"
  }
 },
 "nbformat": 4,
 "nbformat_minor": 2
}
