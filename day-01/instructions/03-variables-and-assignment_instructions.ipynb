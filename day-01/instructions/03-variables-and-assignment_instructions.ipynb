{
 "cells": [
  {
   "cell_type": "markdown",
   "metadata": {},
   "source": [
    "# Variables and Assignment"
   ]
  },
  {
   "cell_type": "markdown",
   "metadata": {},
   "source": [
    "## Questions\n",
    "\n",
    "- How can I store data in programs?\n",
    "\n",
    "## Objectives\n",
    "\n",
    "- Write programs that assign scalar values to variables and perform calculations with those values.\n",
    "- Correctly trace value changes in programs that use scalar assignment.\n",
    "\n",
    "## Use variables to store values.\n",
    "\n",
    "Variables are names for values.\n",
    "\n",
    "Variable names\n",
    "\n",
    "can only contain letters, digits, and underscore `_` (typically used to separate words in long variable names)\n",
    "cannot start with a digit\n",
    "are case sensitive (age, Age and AGE are three different variables)\n",
    "The name should also be meaningful so you or another programmer know what it is\n",
    "\n",
    "Variable names that start with underscores like `__alistairs_real_age` have a special meaning so we won’t do that until we understand the convention.\n",
    "\n",
    "In Python the `=` symbol assigns the value on the right to the name on the left.\n",
    "\n",
    "The variable is created when a value is assigned to it.\n",
    "\n",
    "Here, Python assigns an age to a variable `age` and a name in quotes to a variable `first_name`.\n"
   ]
  },
  {
   "cell_type": "code",
   "execution_count": null,
   "metadata": {},
   "outputs": [],
   "source": [
    "age = 42\n",
    "first_name = \"Ahmed\""
   ]
  },
  {
   "cell_type": "markdown",
   "metadata": {},
   "source": [
    "## Use print to display values.\n",
    "\n",
    "- Python has a built-in function called `print` that prints things as text.\n",
    "- Call the function (i.e., tell Python to run it) by using its name.\n",
    "- Provide values to the function (i.e., the things to print) in parentheses.\n",
    "- To add a string to the printout, wrap the string in single or double quotes.\n",
    "- The values passed to the function are called **arguments**\n"
   ]
  },
  {
   "cell_type": "code",
   "execution_count": null,
   "metadata": {},
   "outputs": [],
   "source": [
    "print(first_name, \"is\", age, \"years old\")"
   ]
  },
  {
   "cell_type": "markdown",
   "metadata": {},
   "source": [
    "- `print` automatically puts a single space between items to separate them.\n",
    "- And wraps around to a new line at the end.\n"
   ]
  },
  {
   "cell_type": "markdown",
   "metadata": {},
   "source": [
    "## Variables must be created before they are used.\n",
    "\n",
    "- If a variable doesn’t exist yet, or if the name has been mis-spelled, Python reports an error. (Unlike some languages, which “guess” a default value.)\n"
   ]
  },
  {
   "cell_type": "code",
   "execution_count": null,
   "metadata": {},
   "outputs": [],
   "source": [
    "print(last_name)"
   ]
  },
  {
   "cell_type": "markdown",
   "metadata": {},
   "source": [
    "- The last line of an error message is usually the most informative.\n",
    "- We will look at error messages in detail later.\n"
   ]
  },
  {
   "cell_type": "markdown",
   "metadata": {},
   "source": [
    "## Variables persist between cells\n",
    "\n",
    "- Be aware that it is the order of execution of cells that is important in a Jupyter notebook, not the order in which they appear.\n",
    "- Python will remember all the code that was run previously, including any variables you have defined, irrespective of the order in the notebook.\n",
    "- Therefore if you define variables lower down the notebook and then (re)run cells further up, those defined further down will still be present.\n",
    "\n",
    "As an example, create two cells with the following content, in this order:\n"
   ]
  },
  {
   "cell_type": "code",
   "execution_count": null,
   "metadata": {},
   "outputs": [],
   "source": [
    "print(myval)"
   ]
  },
  {
   "cell_type": "code",
   "execution_count": null,
   "metadata": {},
   "outputs": [],
   "source": [
    "myval = 1"
   ]
  },
  {
   "cell_type": "markdown",
   "metadata": {},
   "source": [
    "If you execute this in order, the first cell will give an error. However, if you run the first cell after the second cell it will print out `1`. To prevent confusion, it can be helpful to use the `Restart` option from the top menu, which clears the interpreter so you can run everything from a clean slate going top to bottom.\n"
   ]
  },
  {
   "cell_type": "markdown",
   "metadata": {},
   "source": [
    "## Variables can be used in calculations.\n",
    "\n",
    "- We can use variables in calculations just as if they were values.\n",
    "- Remember, we assigned the value 42 to age a few lines ago.\n"
   ]
  },
  {
   "cell_type": "code",
   "execution_count": null,
   "metadata": {},
   "outputs": [],
   "source": [
    "age = age + 3\n",
    "print(\"Age in three years:\", age)"
   ]
  },
  {
   "cell_type": "markdown",
   "metadata": {},
   "source": [
    "## Use an index to get a single character from a string.\n",
    "\n",
    "- The characters (individual letters, numbers, and so on) in a string are ordered. For example, the string `'AB'` is not the same as `'BA'`. Because of this ordering, we can treat the string as a list of characters.\n",
    "- Each position in the string (first, second, etc.) is given a number. This number is called an _index_ or sometimes a subscript.\n",
    "- Indices are numbered from `0`.\n",
    "- Use the position’s index in square brackets to get the character at that position.\n"
   ]
  },
  {
   "cell_type": "markdown",
   "metadata": {},
   "source": [
    "A line of Python code, print(atom_name[0]), demonstrates that using the zero index will output just the initial letter, in this case ‘h’ for helium.\n"
   ]
  },
  {
   "cell_type": "code",
   "execution_count": null,
   "metadata": {},
   "outputs": [],
   "source": [
    "atom_name = \"helium\"\n",
    "print(atom_name[0])"
   ]
  },
  {
   "cell_type": "markdown",
   "metadata": {},
   "source": [
    "## Use a slice to get a substring.\n",
    "\n",
    "- A part of a string is called a _substring_. A substring can be as short as a single character.\n",
    "- An item in a list is called an _element_. Whenever we treat a string as if it were a list, the string’s elements are its individual characters.\n",
    "- A slice is a part of a string (or, more generally, a part of any list-like thing).\n",
    "- We take a slice with the notation `[start:stop]`, where start is the integer index of the first element we want and stop is the integer index of the element just after the last element we want.\n",
    "- The difference between stop and start is the slice’s length.\n",
    "- Taking a slice does not change the contents of the original string. Instead, taking a slice returns a copy of part of the original string.\n"
   ]
  },
  {
   "cell_type": "code",
   "execution_count": null,
   "metadata": {},
   "outputs": [],
   "source": [
    "atom_name = \"sodium\"\n",
    "print(atom_name[0:3])"
   ]
  },
  {
   "cell_type": "markdown",
   "metadata": {},
   "source": [
    "## Use the built-in function len to find the length of a string.\n",
    "\n",
    "Nested functions are evaluated from the inside out, like in mathematics.\n"
   ]
  },
  {
   "cell_type": "code",
   "execution_count": null,
   "metadata": {},
   "outputs": [],
   "source": [
    "print(len(\"helium\"))"
   ]
  },
  {
   "cell_type": "markdown",
   "metadata": {},
   "source": [
    "## Python is case-sensitive.\n",
    "\n",
    "- Python thinks that upper- and lower-case letters are different, so `Name` and `name` are different variables.\n",
    "- There are conventions for using upper-case letters at the start of variable names so we will use lower-case letters for now.\n"
   ]
  },
  {
   "cell_type": "markdown",
   "metadata": {},
   "source": [
    "## Use meaningful variable names.\n",
    "\n",
    "Python doesn’t care what you call variables as long as they obey the rules (alphanumeric characters and the underscore).\n"
   ]
  },
  {
   "cell_type": "code",
   "execution_count": null,
   "metadata": {},
   "outputs": [],
   "source": [
    "flabadab = 42\n",
    "ewr_422_yY = \"Ahmed\"\n",
    "print(ewr_422_yY, \"is\", flabadab, \"years old\")"
   ]
  },
  {
   "cell_type": "markdown",
   "metadata": {},
   "source": [
    "- Use meaningful variable names to help other people understand what the program does.\n",
    "- The most important “other person” is your future self.\n"
   ]
  },
  {
   "cell_type": "markdown",
   "metadata": {},
   "source": [
    "## Exercise: Swapping values\n",
    "\n",
    "Fill the table showing the values of the variables in this program _after_ each statement is executed.\n",
    "\n",
    "```\n",
    "# Command  # Value of x   # Value of y   # Value of swap #\n",
    "x = 1.0    #              #              #               #\n",
    "y = 3.0    #              #              #               #\n",
    "swap = x   #              #              #               #\n",
    "x = y      #              #              #               #\n",
    "y = swap   #              #              #               #\n",
    "```\n"
   ]
  },
  {
   "cell_type": "markdown",
   "metadata": {},
   "source": [
    "### Solution\n",
    "\n",
    "```\n",
    "# Command  # Value of x   # Value of y   # Value of swap #\n",
    "x = 1.0    # 1.0          # not defined  # not defined   #\n",
    "y = 3.0    # 1.0          # 3.0          # not defined   #\n",
    "swap = x   # 1.0          # 3.0          # 1.0           #\n",
    "x = y      # 3.0          # 3.0          # 1.0           #\n",
    "y = swap   # 3.0          # 1.0          # 1.0           #\n",
    "```\n",
    "\n",
    "These three lines exchange the values in x and y using the swap variable for temporary storage. This is a fairly common programming idiom.\n"
   ]
  },
  {
   "cell_type": "markdown",
   "metadata": {},
   "source": [
    "## Key points\n",
    "\n",
    "- Use variables to store values.\n",
    "- Use `print` to display values.\n",
    "- Variables persist between cells.\n",
    "- Variables must be created before they are used.\n",
    "- Variables can be used in calculations.\n",
    "- Use an index to get a single character from a string.\n",
    "- Use a slice to get a substring.\n",
    "- Use the built-in function `len` to find the length of a string.\n",
    "- Python is case-sensitive.\n",
    "- Use meaningful variable names.\n"
   ]
  },
  {
   "cell_type": "markdown",
   "metadata": {},
   "source": [
    "Licensed under [CC-BY 4.0](http://swcarpentry.github.io/python-novice-gapminder/04-built-in/index.html) 2018–2023 by [The Carpentries](https://carpentries.org/)\n",
    "\n",
    "Licensed under [CC-BY 4.0](http://swcarpentry.github.io/python-novice-gapminder/04-built-in/index.html) 2016–2018 by [Software Carpentry Foundation](https://software-carpentry.org/)\n"
   ]
  }
 ],
 "metadata": {
  "kernelspec": {
   "display_name": ".env",
   "language": "python",
   "name": "python3"
  },
  "language_info": {
   "codemirror_mode": {
    "name": "ipython",
    "version": 3
   },
   "file_extension": ".py",
   "mimetype": "text/x-python",
   "name": "python",
   "nbconvert_exporter": "python",
   "pygments_lexer": "ipython3",
   "version": "3.10.8"
  }
 },
 "nbformat": 4,
 "nbformat_minor": 2
}
