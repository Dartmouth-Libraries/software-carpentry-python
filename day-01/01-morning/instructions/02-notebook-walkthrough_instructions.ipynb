{
 "cells": [
  {
   "cell_type": "markdown",
   "metadata": {},
   "source": [
    "# A walkthrough of notebook commands"
   ]
  },
  {
   "cell_type": "markdown",
   "metadata": {},
   "source": [
    "## Objectives\n",
    "\n",
    "- Create a Jupyter notebook.\n",
    "- Create Markdown cells in a notebook.\n",
    "- Create and run Python cells in a notebook.\n"
   ]
  },
  {
   "cell_type": "markdown",
   "metadata": {},
   "source": [
    "## Creating a Jupyter Notebook\n",
    "\n",
    "To open a new notebook, create new file with the extension `.ipynb`\n",
    "\n",
    "Additional notes on Jupyter notebooks.\n",
    "\n",
    "- Notebook files have the extension `.ipynb` to distinguish them from plain-text Python programs.\n",
    "- Notebooks can be exported as Python scripts that can be run from the command line.\n"
   ]
  },
  {
   "cell_type": "markdown",
   "metadata": {},
   "source": [
    "## How It's Stored\n",
    "\n",
    "- The notebook file is stored in a format called JSON.\n",
    "- Just like a webpage, what's saved looks different from what you see in your browser.\n",
    "- But this format allows Jupyter to mix source code, text, and images, all in one file.\n"
   ]
  },
  {
   "cell_type": "markdown",
   "metadata": {},
   "source": [
    "## Code vs. Text\n",
    "\n",
    "Jupyter mixes code and text in different types of blocks, called cells. We often use the term\n",
    "\"code\" to mean \"the source code of software written in a language such as Python\".\n",
    "A \"code cell\" in a Notebook is a cell that contains software;\n",
    "a \"text cell\" is one that contains ordinary prose written for human beings.\n",
    "\n",
    "> **Note:** The very first time you run a Python cell, VS Code will prompt you install the `ipykernel` package. This is necessary to run Python code within a notebook but only needs to be installed once in the environment. Confirm the installation, wait for it to install, and continue.\n"
   ]
  },
  {
   "cell_type": "markdown",
   "metadata": {},
   "source": [
    "## The Notebook has Command and Edit modes.\n",
    "\n",
    "- If you press <kbd>Esc</kbd> and <kbd>Return</kbd> alternately, the outer border of your code cell will change from gray to blue.\n",
    "- These are the **Command** (gray) and **Edit** (blue) modes of your notebook.\n",
    "- Command mode allows you to edit notebook-level features, and Edit mode changes the content of cells.\n",
    "- When in Command mode (esc/gray),\n",
    "  - The <kbd>b</kbd> key will make a new cell below the currently selected cell.\n",
    "  - The <kbd>a</kbd> key will make one above.\n",
    "  - The <kbd>x</kbd> key will delete the current cell.\n",
    "  - The <kbd>z</kbd> key will undo your last cell operation (which could be a deletion, creation, etc).\n",
    "- All actions can be done using the menus, but there are lots of keyboard shortcuts to speed things up.\n"
   ]
  },
  {
   "cell_type": "markdown",
   "metadata": {},
   "source": [
    "## The menu bar\n",
    "\n",
    "At the top of the notebook, you can see a few buttons:\n",
    "\n",
    "- `+ Code` creates a new code cell\n",
    "- `+ Markdown` creates a nuew markdown cell\n",
    "- `Run All` runs the entire notebook from top to bottom\n",
    "- `Clear All Outputs` resets the outputs of every cell\n",
    "- `Outline` expands a section on the left that shows the outline of the current notebook\n",
    "- `⋯` shows some advanced options\n"
   ]
  },
  {
   "cell_type": "markdown",
   "metadata": {},
   "source": [
    "## Use the keyboard and mouse to select and edit cells.\n",
    "\n",
    "- Pressing the <kbd>Return</kbd> key turns the border blue and engages Edit mode, which allows\n",
    "  you to type within the cell.\n",
    "- Because we want to be able to write many lines of code in a single cell,\n",
    "  pressing the <kbd>Return</kbd> key when in Edit mode (blue) moves the cursor to the next line\n",
    "  in the cell just like in a text editor.\n",
    "- We need some other way to tell the Notebook we want to run what's in the cell.\n",
    "- Pressing <kbd>Shift</kbd>\\+<kbd>Return</kbd> together will execute the contents of the cell.\n",
    "- Notice that the <kbd>Return</kbd> and <kbd>Shift</kbd> keys on the right of the keyboard are\n",
    "  right next to each other.\n"
   ]
  },
  {
   "cell_type": "markdown",
   "metadata": {},
   "source": [
    "## The Notebook will turn Markdown into pretty-printed documentation.\n",
    "\n",
    "- Notebooks can also render [Markdown](https://en.wikipedia.org/wiki/Markdown).\n",
    "  - A simple plain-text format for writing lists, links,\n",
    "    and other things that might go into a web page.\n",
    "  - Equivalently, a subset of HTML that looks like what you'd send in an old-fashioned email.\n",
    "- Turn the current cell into a Markdown cell by entering the Command mode (<kbd>Esc</kbd>/gray)\n",
    "  and press the <kbd>M</kbd> key.\n",
    "- `In [ ]:` will disappear to show it is no longer a code cell and you will be able to write in\n",
    "  Markdown.\n",
    "- Turn the current cell into a Code cell by entering the Command mode (<kbd>Esc</kbd>/gray) and\n",
    "  press the <kbd>y</kbd> key.\n"
   ]
  },
  {
   "cell_type": "markdown",
   "metadata": {},
   "source": [
    "## Markdown does most of what HTML does.\n",
    "\n",
    "```\n",
    "*   Use asterisks or dashes\n",
    "*   to create\n",
    "*   bullet lists.\n",
    "```\n",
    "\n",
    "- Use asterisks\n",
    "- to create\n",
    "- bullet lists.\n",
    "\n",
    "```\n",
    "1.  Use numbers\n",
    "2.  to create\n",
    "3.  numbered lists.\n",
    "```\n",
    "\n",
    "1. Use numbers\n",
    "2. to create\n",
    "3. numbered lists.\n",
    "\n",
    "```\n",
    "*  You can use indents\n",
    "\t*  To create sublists\n",
    "\t*  of the same type\n",
    "*  Or sublists\n",
    "\t1. Of different\n",
    "\t1. types\n",
    "```\n",
    "\n",
    "- You can use indents\n",
    "  - To create sublists\n",
    "  - of the same type\n",
    "- Or sublists\n",
    "  1. Of different\n",
    "  2. types\n",
    "\n",
    "```\n",
    "# A Level-1 Heading\n",
    "```\n",
    "\n",
    "# A Level-1 Heading\n",
    "\n",
    "```\n",
    "## A Level-2 Heading (etc.)\n",
    "```\n",
    "\n",
    "## A Level-2 Heading (etc.)\n",
    "\n",
    "```\n",
    "Line breaks\n",
    "don't matter.\n",
    "\n",
    "But blank lines\n",
    "create new paragraphs.\n",
    "```\n",
    "\n",
    "Line breaks\n",
    "don't matter.\n",
    "\n",
    "But blank lines\n",
    "create new paragraphs.\n",
    "\n",
    "```\n",
    "[Create links](https://www.library.dartmouth.edu/) with `[...](...)`.\n",
    "Or use [named links](https://www.library.dartmouth.edu/).\n",
    "```\n",
    "\n",
    "[Create links](https://www.library.dartmouth.edu/) with `[...](...)`.\n",
    "Or use [named links](https://www.library.dartmouth.edu/).\n"
   ]
  },
  {
   "cell_type": "markdown",
   "metadata": {},
   "source": [
    "## Exercise: Creating Lists in Markdown\n",
    "\n",
    "Create a nested list in a Markdown cell in a notebook that looks like this:\n",
    "\n",
    "1. Get funding.\n",
    "2. Do work.\n",
    "   - Design experiment.\n",
    "   - Collect data.\n",
    "   - Analyze.\n",
    "3. Write up.\n",
    "4. Publish.\n"
   ]
  },
  {
   "cell_type": "markdown",
   "metadata": {},
   "source": [
    "### Solution\n",
    "\n",
    "This challenge integrates both the numbered list and bullet list.\n",
    "Note that the bullet list is indented 2 spaces so that it is inline with the items of the numbered list.\n",
    "\n",
    "```\n",
    "1.  Get funding.\n",
    "2.  Do work.\n",
    "    *   Design experiment.\n",
    "    *   Collect data.\n",
    "    *   Analyze.\n",
    "3.  Write up.\n",
    "4.  Publish.\n",
    "```\n"
   ]
  },
  {
   "cell_type": "markdown",
   "metadata": {},
   "source": [
    "## Key points\n",
    "\n",
    "- Python scripts are plain text files.\n",
    "- Use the Jupyter Notebook for editing and running Python.\n",
    "- The Notebook has Command and Edit modes.\n",
    "- Use the keyboard and mouse to select and edit cells.\n",
    "- The Notebook will turn Markdown into pretty-printed documentation.\n",
    "- Markdown does most of what HTML does\n"
   ]
  },
  {
   "cell_type": "markdown",
   "metadata": {},
   "source": [
    "Licensed under [CC-BY 4.0](http://swcarpentry.github.io/python-novice-gapminder/04-built-in/index.html) 2018–2023 by [The Carpentries](https://carpentries.org/)\n",
    "\n",
    "Licensed under [CC-BY 4.0](http://swcarpentry.github.io/python-novice-gapminder/04-built-in/index.html) 2016–2018 by [Software Carpentry Foundation](https://software-carpentry.org/)\n"
   ]
  }
 ],
 "metadata": {
  "kernelspec": {
   "display_name": ".env",
   "language": "python",
   "name": "python3"
  },
  "language_info": {
   "name": "python",
   "version": "3.10.8"
  }
 },
 "nbformat": 4,
 "nbformat_minor": 2
}
