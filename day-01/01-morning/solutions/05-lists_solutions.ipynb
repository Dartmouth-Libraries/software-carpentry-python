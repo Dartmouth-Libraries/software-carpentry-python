{
 "cells": [
  {
   "cell_type": "markdown",
   "metadata": {},
   "source": [
    "# Lists"
   ]
  },
  {
   "cell_type": "markdown",
   "metadata": {},
   "source": [
    "## Fill in the blanks\n",
    "\n",
    "Fill in the blanks so that the program below produces the output shown.\n",
    "\n",
    "```{python}\n",
    "values = ____\n",
    "values.____(1)\n",
    "values.____(3)\n",
    "values.____(5)\n",
    "print('first time:', values)\n",
    "values = values[____]\n",
    "print('second time:', values)\n",
    "```\n",
    "\n",
    "Output:\n",
    "\n",
    "```\n",
    "first time: [1, 3, 5]\n",
    "second time: [3, 5]\n",
    "```\n"
   ]
  },
  {
   "cell_type": "markdown",
   "metadata": {},
   "source": [
    "### Solution"
   ]
  },
  {
   "cell_type": "code",
   "execution_count": null,
   "metadata": {},
   "outputs": [],
   "source": [
    "values = []\n",
    "values.append(1)\n",
    "values.append(3)\n",
    "values.append(5)\n",
    "print(\"first time:\", values)\n",
    "values = values[1:]\n",
    "print(\"second time:\", values)"
   ]
  },
  {
   "cell_type": "markdown",
   "metadata": {},
   "source": [
    "## How large is a slice\n",
    "\n",
    "If `start` and `stop` are both non-negative integers, how long is the list `values[start:stop]`?\n"
   ]
  },
  {
   "cell_type": "markdown",
   "metadata": {},
   "source": [
    "### Solution\n",
    "\n",
    "The list `values[start:stop]` has up to `stop - start` elements. For example, `values[1:4]` has the `3` elements `values[1]`, `values[2]`, and `values[3]`. Why ‘up to’? As we saw in episode 2, if `stop` is greater than the total length of the list values, we will still get a list back but it will be shorter than expected.\n"
   ]
  },
  {
   "cell_type": "markdown",
   "metadata": {},
   "source": [
    "## _From strings to lists and back_\n",
    "\n",
    "Given this:\n",
    "\n",
    "```{python}\n",
    "print('string to list:', list('tin'))\n",
    "print('list to string:', ''.join(['g', 'o', 'l', 'd']))\n",
    "```\n",
    "\n",
    "Output:\n",
    "\n",
    "```\n",
    "string to list: ['t', 'i', 'n']\n",
    "list to string: gold\n",
    "```\n",
    "\n",
    "What does `list('some string')` do?\n",
    "What does `'-'.join(['x', 'y', 'z'])` generate?\n"
   ]
  },
  {
   "cell_type": "markdown",
   "metadata": {},
   "source": [
    "### Solution\n",
    "\n",
    "- [`list('some string')`](https://docs.python.org/3/library/stdtypes.html#list) converts a string into a list containing all of its characters.\n",
    "- [`join`](https://docs.python.org/3/library/stdtypes.html#str.join) returns a string that is the concatenation of each string element in the list and adds the separator between each element in the list. This results in `x-y-z`. The separator between the elements is the string that provides this method.\n"
   ]
  },
  {
   "cell_type": "markdown",
   "metadata": {},
   "source": [
    "## _Working with the end_\n",
    "\n",
    "What does the following program print?\n",
    "\n",
    "```{python}\n",
    "elements = ['helium', 'hydrogen', 'iron']\n",
    "print(element[-1])\n",
    "```\n",
    "\n",
    "1. How does Python interpret a negative index?\n",
    "2. If a list or string has `N` elements, what is the most negative index that can safely be used with it, and what location does that index represent?\n",
    "3. If `values` is a list, what does `del values[-1]` do?\n",
    "4. How can you display all elements but the last one without changing values? (Hint: you will need to combine slicing and negative indexing.)\n"
   ]
  },
  {
   "cell_type": "markdown",
   "metadata": {},
   "source": [
    "### Solution\n",
    "\n",
    "The program prints `'iron'`.\n",
    "\n",
    "1. Python interprets a negative index as starting from the end (as opposed to starting from the beginning). The last element is `-1`.\n",
    "2. The last index that can safely be used with a list of `N` elements is element `-N`, which represents the first element.\n",
    "3. `del values[-1]` removes the last element from the list.\n",
    "4. `values[:-1]`\n"
   ]
  },
  {
   "cell_type": "markdown",
   "metadata": {},
   "source": [
    "## _Stepping through a list_\n",
    "\n",
    "What does the following program print?\n",
    "\n",
    "```{python}\n",
    "elements = ['fluorine', 'helium', 'hydrogen', 'iron', 'oxygen']\n",
    "print(elements[::2])\n",
    "print(elements[::-1])\n",
    "```\n",
    "\n",
    "1. If we write a slice as `low:high:stride`, what does stride do?\n",
    "2. What expression would select all of the even-numbered items from a collection?\n"
   ]
  },
  {
   "cell_type": "markdown",
   "metadata": {},
   "source": [
    "### Solution\n",
    "\n",
    "The program prints\n",
    "\n",
    "```\n",
    "['fluorine', 'hydrogen', 'oxygen']\n",
    "['oxygen', 'iron', 'hydrogen', 'helium', 'fluorine']\n",
    "```\n",
    "\n",
    "1. `stride` is the step size of the slice.\n",
    "2. The slice `1::2` selects all even-numbered items from a collection: it starts with element `1` (which is the second element, since indexing starts at `0`), goes on until the end (since no end is given), and uses a step size of `2` (i.e., selects every second element).\n"
   ]
  },
  {
   "cell_type": "markdown",
   "metadata": {},
   "source": [
    "## Slice bounds\n",
    "\n",
    "What does the following program print?\n",
    "\n",
    "```{python}\n",
    "elements = ['fluorine', 'helium', 'hydrogen', 'iron', 'oxygen']\n",
    "print(elements[0:20])\n",
    "print(elements[-1:3])\n",
    "```\n"
   ]
  },
  {
   "cell_type": "markdown",
   "metadata": {},
   "source": [
    "### Solution\n",
    "\n",
    "The program prints:\n",
    "\n",
    "```\n",
    "['fluorine', 'helium', 'hydrogen', 'iron', 'oxygen']\n",
    "[]\n",
    "```\n",
    "\n",
    "The first statement prints the whole list, since the slice goes beyond the total length of the list. The second statement returns an empty list, because the slice goes “out of bounds” of the list.\n"
   ]
  },
  {
   "cell_type": "markdown",
   "metadata": {},
   "source": [
    "## Sort and sorted\n",
    "\n",
    "What do these two programs print? In simple terms, explain the difference between `sorted(letters)` and `letters.sort()`.\n",
    "\n",
    "```{python}\n",
    "# Program A\n",
    "letters = list('gold')\n",
    "result = sorted(letters)\n",
    "print('letters is', letters, 'and result is', result)\n",
    "```\n",
    "\n",
    "```{python}\n",
    "# Program B\n",
    "letters = list('gold')\n",
    "result = letters.sort()\n",
    "print('letters is', letters, 'and result is', result)\n",
    "```\n"
   ]
  },
  {
   "cell_type": "markdown",
   "metadata": {},
   "source": [
    "### Solution\n",
    "\n",
    "Program A prints\n",
    "\n",
    "```\n",
    "letters is ['g', 'o', 'l', 'd'] and result is ['d', 'g', 'l', 'o']\n",
    "```\n",
    "\n",
    "Program B prints\n",
    "\n",
    "```\n",
    "letters is ['d', 'g', 'l', 'o'] and result is None\n",
    "```\n",
    "\n",
    "`sorted(letters)` returns a sorted copy of the list `letters` (the original list `letters` remains unchanged), while `letters.sort()` sorts the list `letters` in-place and does not return anything.\n"
   ]
  },
  {
   "cell_type": "markdown",
   "metadata": {},
   "source": [
    "## Copying (or not)\n",
    "\n",
    "What do these two programs print? In simple terms, explain the difference between `new = old` and `new = old[:]`.\n",
    "\n",
    "```{python}\n",
    "# Program A\n",
    "old = list('gold')\n",
    "new = old      # simple assignment\n",
    "new[0] = 'D'\n",
    "print('new is', new, 'and old is', old)\n",
    "```\n",
    "\n",
    "```{python}\n",
    "# Program B\n",
    "old = list('gold')\n",
    "new = old[:]   # assigning a slice\n",
    "new[0] = 'D'\n",
    "print('new is', new, 'and old is', old)\n",
    "```\n"
   ]
  },
  {
   "cell_type": "markdown",
   "metadata": {},
   "source": [
    "### Solution\n",
    "\n",
    "Program A prints\n",
    "\n",
    "```\n",
    "new is ['D', 'o', 'l', 'd'] and old is ['D', 'o', 'l', 'd']\n",
    "```\n",
    "\n",
    "Program B prints\n",
    "\n",
    "```\n",
    "new is ['D', 'o', 'l', 'd'] and old is ['g', 'o', 'l', 'd']\n",
    "```\n",
    "\n",
    "`new = old` makes new a reference to the list `old`; `new` and `old` point towards the same object.\n",
    "\n",
    "`new = old[:]` however creates a new list object `new` containing all elements from the list `old`; `new` and `old` are different objects.\n"
   ]
  },
  {
   "cell_type": "markdown",
   "metadata": {},
   "source": [
    "Licensed under [CC-BY 4.0](http://swcarpentry.github.io/python-novice-gapminder/04-built-in/index.html) 2018–2023 by [The Carpentries](https://carpentries.org/)\n",
    "\n",
    "Licensed under [CC-BY 4.0](http://swcarpentry.github.io/python-novice-gapminder/04-built-in/index.html) 2016–2018 by [Software Carpentry Foundation](https://software-carpentry.org/)\n"
   ]
  }
 ],
 "metadata": {
  "kernelspec": {
   "display_name": ".env",
   "language": "python",
   "name": "python3"
  },
  "language_info": {
   "codemirror_mode": {
    "name": "ipython",
    "version": 3
   },
   "file_extension": ".py",
   "mimetype": "text/x-python",
   "name": "python",
   "nbconvert_exporter": "python",
   "pygments_lexer": "ipython3",
   "version": "3.10.8"
  }
 },
 "nbformat": 4,
 "nbformat_minor": 2
}
