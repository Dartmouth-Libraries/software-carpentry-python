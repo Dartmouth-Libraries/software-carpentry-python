{
 "cells": [
  {
   "cell_type": "markdown",
   "metadata": {},
   "source": [
    "# Variables and Assignment"
   ]
  },
  {
   "cell_type": "markdown",
   "metadata": {},
   "source": [
    "## Exercise: Swapping values\n",
    "\n",
    "Fill the table showing the values of the variables in this program _after_ each statement is executed.\n",
    "\n",
    "```\n",
    "# Command  # Value of x   # Value of y   # Value of swap #\n",
    "x = 1.0    #              #              #               #\n",
    "y = 3.0    #              #              #               #\n",
    "swap = x   #              #              #               #\n",
    "x = y      #              #              #               #\n",
    "y = swap   #              #              #               #\n",
    "```\n"
   ]
  },
  {
   "cell_type": "markdown",
   "metadata": {},
   "source": [
    "## Exercise: Predicting values\n",
    "\n",
    "What is the final value of position in the program below? (Try to predict the value without running the program, then check your prediction.)\n",
    "\n",
    "```{python}\n",
    "initial = 'left'\n",
    "position = initial\n",
    "initial = 'right'\n",
    "```\n"
   ]
  },
  {
   "cell_type": "markdown",
   "metadata": {},
   "source": [
    "## _Exercise_\n",
    "\n",
    "If you assign `a = 123`, what happens if you try to get the second digit of a via `a[1]`?\n"
   ]
  },
  {
   "cell_type": "markdown",
   "metadata": {},
   "source": [
    "## _Exercise: Choosing a name_\n",
    "\n",
    "Which is a better variable name, `m`, `min`, or `minutes`? Why? Hint: think about which code you would rather inherit from someone who is leaving the lab:\n",
    "\n",
    "```{python}\n",
    "ts = m * 60 + s\n",
    "tot_sec = min * 60 + sec\n",
    "total_seconds = minutes * 60 + seconds\n",
    "```\n"
   ]
  },
  {
   "cell_type": "markdown",
   "metadata": {},
   "source": [
    "## _Exercise: Slicing practice_\n",
    "\n",
    "What does the following program print?\n",
    "\n",
    "```{python}\n",
    "atom_name = 'carbon'\n",
    "print('atom_name[1:3] is:', atom_name[1:3])\n",
    "```\n"
   ]
  },
  {
   "cell_type": "markdown",
   "metadata": {},
   "source": [
    "## Exercise: Slicing concepts\n",
    "\n",
    "Given the following string:\n",
    "\n",
    "```{python}\n",
    "species_name = \"Acacia buxifolia\"\n",
    "```\n",
    "\n",
    "What would these expressions return?\n",
    "\n",
    "```{python}\n",
    "species_name[2:8]\n",
    "species_name[11:] (without a value after the colon)\n",
    "species_name[:4] (without a value before the colon)\n",
    "species_name[:] (just a colon)\n",
    "species_name[11:-3]\n",
    "species_name[-5:-3]\n",
    "```\n",
    "\n",
    "What happens when you choose a stop value which is out of range? (i.e., try `species_name[0:20]` or `species_name[:103]`)\n"
   ]
  },
  {
   "cell_type": "markdown",
   "metadata": {},
   "source": [
    "Licensed under [CC-BY 4.0](http://swcarpentry.github.io/python-novice-gapminder/04-built-in/index.html) 2018–2023 by [The Carpentries](https://carpentries.org/)\n",
    "\n",
    "Licensed under [CC-BY 4.0](http://swcarpentry.github.io/python-novice-gapminder/04-built-in/index.html) 2016–2018 by [Software Carpentry Foundation](https://software-carpentry.org/)\n"
   ]
  }
 ],
 "metadata": {
  "kernelspec": {
   "display_name": ".env",
   "language": "python",
   "name": "python3"
  },
  "language_info": {
   "codemirror_mode": {
    "name": "ipython",
    "version": 3
   },
   "file_extension": ".py",
   "mimetype": "text/x-python",
   "name": "python",
   "nbconvert_exporter": "python",
   "pygments_lexer": "ipython3",
   "version": "3.10.8"
  }
 },
 "nbformat": 4,
 "nbformat_minor": 2
}
