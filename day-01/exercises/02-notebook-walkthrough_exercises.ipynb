{
 "cells": [
  {
   "cell_type": "markdown",
   "metadata": {},
   "source": [
    "# A walkthrough of notebook commands"
   ]
  },
  {
   "cell_type": "markdown",
   "metadata": {},
   "source": [
    "## Exercise: Command Vs. Edit\n",
    "\n",
    "In the Jupyter notebook page are you currently in Command or Edit mode?\n",
    "Switch between the modes.\n",
    "Use the shortcuts to generate a new cell.\n",
    "Use the shortcuts to delete a cell.\n",
    "Use the shortcuts to undo the last cell operation you performed.\n"
   ]
  },
  {
   "cell_type": "markdown",
   "metadata": {},
   "source": [
    "## Exercise: Creating Lists in Markdown\n",
    "\n",
    "Create a nested list in a Markdown cell in a notebook that looks like this:\n",
    "\n",
    "1. Get funding.\n",
    "2. Do work.\n",
    "   - Design experiment.\n",
    "   - Collect data.\n",
    "   - Analyze.\n",
    "3. Write up.\n",
    "4. Publish.\n"
   ]
  },
  {
   "cell_type": "markdown",
   "metadata": {},
   "source": []
  },
  {
   "cell_type": "markdown",
   "metadata": {},
   "source": [
    "## Exercise: More Math\n",
    "\n",
    "What is displayed when a Python cell in a notebook\n",
    "that contains several calculations is executed?\n",
    "For example, what happens when this cell is executed?\n",
    "\n",
    "```python\n",
    "7 * 3\n",
    "2 + 1\n",
    "```\n"
   ]
  },
  {
   "cell_type": "markdown",
   "metadata": {},
   "source": [
    "## Exercise: Change an Existing Cell from Code to Markdown\n",
    "\n",
    "What happens if you write some Python in a code cell\n",
    "and then you switch it to a Markdown cell?\n",
    "For example, put the following in a code cell:\n",
    "\n",
    "```python\n",
    "x = 6 * 7 + 12\n",
    "print(x)\n",
    "```\n",
    "\n",
    "And then run it with <kbd>Shift</kbd>\\+<kbd>Return</kbd> to be sure that it works as a code cell.\n",
    "Now go back to the cell and use <kbd>Esc</kbd> then <kbd>m</kbd> to switch the cell to Markdown\n",
    "and \"run\" it with <kbd>Shift</kbd>\\+<kbd>Return</kbd>.\n",
    "What happened and how might this be useful?\n"
   ]
  },
  {
   "cell_type": "code",
   "execution_count": null,
   "metadata": {},
   "outputs": [],
   "source": []
  },
  {
   "cell_type": "markdown",
   "metadata": {},
   "source": [
    "## Exercise: Equations\n",
    "\n",
    "Standard Markdown (such as we're using for these notes) won't render equations,\n",
    "but the Notebook will.\n",
    "Create a new Markdown cell and enter the following:\n",
    "\n",
    "```\n",
    "$\\sum_{i=1}^{N} 2^{-i} \\approx 1$\n",
    "```\n",
    "\n",
    "(It's probably easier to copy and paste.)\n",
    "What does it display?\n",
    "What do you think the underscore, `_`, circumflex, `^`, and dollar sign, `$`, do?\n"
   ]
  },
  {
   "cell_type": "markdown",
   "metadata": {},
   "source": [
    "Licensed under [CC-BY 4.0](http://swcarpentry.github.io/python-novice-gapminder/04-built-in/index.html) 2018–2023 by [The Carpentries](https://carpentries.org/)\n",
    "\n",
    "Licensed under [CC-BY 4.0](http://swcarpentry.github.io/python-novice-gapminder/04-built-in/index.html) 2016–2018 by [Software Carpentry Foundation](https://software-carpentry.org/)\n"
   ]
  }
 ],
 "metadata": {
  "language_info": {
   "name": "python"
  }
 },
 "nbformat": 4,
 "nbformat_minor": 2
}
