{
 "cells": [
  {
   "cell_type": "markdown",
   "metadata": {},
   "source": [
    "# Lists"
   ]
  },
  {
   "cell_type": "markdown",
   "metadata": {},
   "source": [
    "## Fill in the blanks\n",
    "\n",
    "Fill in the blanks so that the program below produces the output shown.\n",
    "\n",
    "```{python}\n",
    "values = ____\n",
    "values.____(1)\n",
    "values.____(3)\n",
    "values.____(5)\n",
    "print('first time:', values)\n",
    "values = values[____]\n",
    "print('second time:', values)\n",
    "```\n",
    "\n",
    "Output:\n",
    "\n",
    "```\n",
    "first time: [1, 3, 5]\n",
    "second time: [3, 5]\n",
    "```\n"
   ]
  },
  {
   "cell_type": "code",
   "execution_count": null,
   "metadata": {},
   "outputs": [],
   "source": []
  },
  {
   "cell_type": "markdown",
   "metadata": {},
   "source": [
    "## How large is a slice\n",
    "\n",
    "If `start` and `stop` are both non-negative integers, how long is the list `values[start:stop]`?\n"
   ]
  },
  {
   "cell_type": "markdown",
   "metadata": {},
   "source": [
    "## _From strings to lists and back_\n",
    "\n",
    "Given this:\n",
    "\n",
    "```{python}\n",
    "print('string to list:', list('tin'))\n",
    "print('list to string:', ''.join(['g', 'o', 'l', 'd']))\n",
    "```\n",
    "\n",
    "Output:\n",
    "\n",
    "```\n",
    "string to list: ['t', 'i', 'n']\n",
    "list to string: gold\n",
    "```\n",
    "\n",
    "What does `list('some string')` do?\n",
    "What does `'-'.join(['x', 'y', 'z'])` generate?\n"
   ]
  },
  {
   "cell_type": "markdown",
   "metadata": {},
   "source": [
    "## _Working with the end_\n",
    "\n",
    "What does the following program print?\n",
    "\n",
    "```{python}\n",
    "elements = ['helium', 'hydrogen', 'iron']\n",
    "print(element[-1])\n",
    "```\n",
    "\n",
    "1. How does Python interpret a negative index?\n",
    "2. If a list or string has `N` elements, what is the most negative index that can safely be used with it, and what location does that index represent?\n",
    "3. If `values` is a list, what does `del values[-1]` do?\n",
    "4. How can you display all elements but the last one without changing values? (Hint: you will need to combine slicing and negative indexing.)\n"
   ]
  },
  {
   "cell_type": "markdown",
   "metadata": {},
   "source": [
    "## _Stepping through a list_\n",
    "\n",
    "What does the following program print?\n",
    "\n",
    "```{python}\n",
    "elements = ['fluorine', 'helium', 'hydrogen', 'iron', 'oxygen']\n",
    "print(elements[::2])\n",
    "print(elements[::-1])\n",
    "```\n",
    "\n",
    "1. If we write a slice as `low:high:stride`, what does stride do?\n",
    "2. What expression would select all of the even-numbered items from a collection?\n"
   ]
  },
  {
   "cell_type": "markdown",
   "metadata": {},
   "source": [
    "## Slice bounds\n",
    "\n",
    "What does the following program print?\n",
    "\n",
    "```{python}\n",
    "elements = ['fluorine', 'helium', 'hydrogen', 'iron', 'oxygen']\n",
    "print(elements[0:20])\n",
    "print(elements[-1:3])\n",
    "```\n"
   ]
  },
  {
   "cell_type": "markdown",
   "metadata": {},
   "source": [
    "## Sort and sorted\n",
    "\n",
    "What do these two programs print? In simple terms, explain the difference between `sorted(letters)` and `letters.sort()`.\n",
    "\n",
    "```{python}\n",
    "# Program A\n",
    "letters = list('gold')\n",
    "result = sorted(letters)\n",
    "print('letters is', letters, 'and result is', result)\n",
    "```\n",
    "\n",
    "```{python}\n",
    "# Program B\n",
    "letters = list('gold')\n",
    "result = letters.sort()\n",
    "print('letters is', letters, 'and result is', result)\n",
    "```\n"
   ]
  },
  {
   "cell_type": "markdown",
   "metadata": {},
   "source": [
    "## Copying (or not)\n",
    "\n",
    "What do these two programs print? In simple terms, explain the difference between `new = old` and `new = old[:]`.\n",
    "\n",
    "```{python}\n",
    "# Program A\n",
    "old = list('gold')\n",
    "new = old      # simple assignment\n",
    "new[0] = 'D'\n",
    "print('new is', new, 'and old is', old)\n",
    "```\n",
    "\n",
    "```{python}\n",
    "# Program B\n",
    "old = list('gold')\n",
    "new = old[:]   # assigning a slice\n",
    "new[0] = 'D'\n",
    "print('new is', new, 'and old is', old)\n",
    "```\n"
   ]
  },
  {
   "cell_type": "markdown",
   "metadata": {},
   "source": [
    "Licensed under [CC-BY 4.0](http://swcarpentry.github.io/python-novice-gapminder/04-built-in/index.html) 2018–2023 by [The Carpentries](https://carpentries.org/)\n",
    "\n",
    "Licensed under [CC-BY 4.0](http://swcarpentry.github.io/python-novice-gapminder/04-built-in/index.html) 2016–2018 by [Software Carpentry Foundation](https://software-carpentry.org/)\n"
   ]
  }
 ],
 "metadata": {
  "kernelspec": {
   "display_name": ".env",
   "language": "python",
   "name": "python3"
  },
  "language_info": {
   "codemirror_mode": {
    "name": "ipython",
    "version": 3
   },
   "file_extension": ".py",
   "mimetype": "text/x-python",
   "name": "python",
   "nbconvert_exporter": "python",
   "pygments_lexer": "ipython3",
   "version": "3.10.8"
  }
 },
 "nbformat": 4,
 "nbformat_minor": 2
}
